{
 "cells": [
  {
   "cell_type": "code",
   "execution_count": null,
   "id": "240da9f5",
   "metadata": {},
   "outputs": [],
   "source": [
    "# Python OS Module Exercises\n",
    "# How to get file creation and modification date or time in Python?\n",
    "# Menu Driven Python program for opening the required software Application\n",
    "# Python Script to change name of a file to its timestamp\n",
    "# Kill a Process by name using Python\n",
    "# Finding the largest file in a directory using Python"
   ]
  },
  {
   "cell_type": "code",
   "execution_count": null,
   "id": "01f6c141",
   "metadata": {},
   "outputs": [],
   "source": [
    "#1. Get File Creation and Modification Date or Time in Python"
   ]
  },
  {
   "cell_type": "code",
   "execution_count": 2,
   "id": "3881d198",
   "metadata": {},
   "outputs": [],
   "source": [
    "import os"
   ]
  },
  {
   "cell_type": "code",
   "execution_count": 4,
   "id": "c8d76f50",
   "metadata": {},
   "outputs": [
    {
     "data": {
      "text/plain": [
       "'C:\\\\Users\\\\12499\\\\Desktop\\\\a.py\\\\11-20Ex'"
      ]
     },
     "execution_count": 4,
     "metadata": {},
     "output_type": "execute_result"
    }
   ],
   "source": [
    "os.getcwd()"
   ]
  },
  {
   "cell_type": "code",
   "execution_count": 5,
   "id": "3a012820",
   "metadata": {},
   "outputs": [
    {
     "name": "stdout",
     "output_type": "stream",
     "text": [
      "Creation Date: 2024-07-29 12:41:04.554299\n",
      "Modification Date: 2024-07-29 16:01:37.267071\n"
     ]
    }
   ],
   "source": [
    "import os\n",
    "import datetime\n",
    "\n",
    "def get_file_dates(file_path):\n",
    "    creation_time = os.path.getctime(file_path)\n",
    "    modification_time = os.path.getmtime(file_path)\n",
    "\n",
    "    creation_date = datetime.datetime.fromtimestamp(creation_time)\n",
    "    modification_date = datetime.datetime.fromtimestamp(modification_time)\n",
    "\n",
    "    return creation_date, modification_date\n",
    "\n",
    "\n",
    "file_path = 'C:\\\\Users\\\\12499\\\\Desktop\\\\a.py\\\\11-20Ex'\n",
    "creation_date, modification_date = get_file_dates(file_path)\n",
    "print(f\"Creation Date: {creation_date}\")\n",
    "print(f\"Modification Date: {modification_date}\")\n"
   ]
  },
  {
   "cell_type": "code",
   "execution_count": null,
   "id": "e5c88538",
   "metadata": {},
   "outputs": [],
   "source": [
    "#2. Menu Driven Python Program for Opening Required Software Application"
   ]
  },
  {
   "cell_type": "code",
   "execution_count": 7,
   "id": "9b543fee",
   "metadata": {},
   "outputs": [
    {
     "name": "stdout",
     "output_type": "stream",
     "text": [
      "Select an application to open:\n",
      "1. Notepad (Windows) / TextEdit (macOS) / gedit (Linux)\n",
      "Enter your choice: 1\n"
     ]
    }
   ],
   "source": [
    "import os\n",
    "import subprocess\n",
    "\n",
    "def open_application(choice):\n",
    "    if choice == 1:\n",
    "        os.system('notepad')  # Windows example\n",
    "    elif choice == 2:\n",
    "        subprocess.call(['open', '-a', 'TextEdit'])  # macOS example\n",
    "    elif choice == 3:\n",
    "        os.system('gedit')  # Linux example\n",
    "    else:\n",
    "        print(\"Invalid choice\")\n",
    "\n",
    "def menu():\n",
    "    print(\"Select an application to open:\")\n",
    "    print(\"1. Notepad (Windows) / TextEdit (macOS) / gedit (Linux)\")\n",
    "    choice = int(input(\"Enter your choice: \"))\n",
    "    open_application(choice)\n",
    "\n",
    "\n",
    "menu()\n"
   ]
  },
  {
   "cell_type": "code",
   "execution_count": null,
   "id": "96ae7afb",
   "metadata": {},
   "outputs": [],
   "source": [
    "#Python Script to change name of a file to its timestamp"
   ]
  },
  {
   "cell_type": "code",
   "execution_count": 14,
   "id": "f3529e0d",
   "metadata": {},
   "outputs": [
    {
     "name": "stdout",
     "output_type": "stream",
     "text": [
      "File has been renamed to: 20240729_172132.txt\n"
     ]
    }
   ],
   "source": [
    "import os\n",
    "import time\n",
    "\n",
    "def rename_file_to_timestamp(file_path):\n",
    "    if not os.path.isfile(file_path):\n",
    "        print(f\"The file {file_path} does not exist.\")\n",
    "        return\n",
    "    \n",
    "    directory, original_file_name = os.path.split(file_path)\n",
    "    file_extension = os.path.splitext(original_file_name)[1]\n",
    "    \n",
    "    timestamp = time.strftime('%Y%m%d_%H%M%S')\n",
    "    \n",
    "    new_file_name = f\"{timestamp}{file_extension}\"\n",
    "    new_file_path = os.path.join(directory, new_file_name)\n",
    "    \n",
    "    os.rename(file_path, new_file_path)\n",
    "    \n",
    "    print(f\"File has been renamed to: {new_file_name}\")\n",
    "\n",
    "file_path = r\"C:\\Users\\12499\\Desktop\\a.py\\11-20Ex\\ab.txt\" \n",
    "rename_file_to_timestamp(file_path)\n"
   ]
  },
  {
   "cell_type": "code",
   "execution_count": null,
   "id": "40ed8fed",
   "metadata": {},
   "outputs": [],
   "source": [
    "#Kill a Process by name using Python"
   ]
  },
  {
   "cell_type": "code",
   "execution_count": 15,
   "id": "d048db7c",
   "metadata": {},
   "outputs": [],
   "source": [
    "import os\n",
    "import signal\n",
    "import psutil\n",
    "\n",
    "def kill_process_by_name(process_name):\n",
    "    for proc in psutil.process_iter(attrs=['pid', 'name']):\n",
    "        if proc.info['name'] == process_name:\n",
    "            os.kill(proc.info['pid'], signal.SIGTERM)\n",
    "            print(f\"Killed process {process_name} with PID {proc.info['pid']}\")\n",
    "\n",
    "process_name = 'notepad.exe'  \n",
    "kill_process_by_name(process_name)"
   ]
  },
  {
   "cell_type": "code",
   "execution_count": null,
   "id": "6a31e28c",
   "metadata": {},
   "outputs": [],
   "source": [
    "#Finding the largest file in a directory using Python"
   ]
  },
  {
   "cell_type": "code",
   "execution_count": 16,
   "id": "9d2081ee",
   "metadata": {},
   "outputs": [
    {
     "name": "stdout",
     "output_type": "stream",
     "text": [
      "Largest file: .\\31.json with size 603846 bytes\n"
     ]
    }
   ],
   "source": [
    "import os\n",
    "\n",
    "def find_largest_file(directory):\n",
    "    largest_file = None\n",
    "    largest_size = 0\n",
    "\n",
    "    for root, dirs, files in os.walk(directory):\n",
    "        for file in files:\n",
    "            file_path = os.path.join(root, file)\n",
    "            file_size = os.path.getsize(file_path)\n",
    "            if file_size > largest_size:\n",
    "                largest_size = file_size\n",
    "                largest_file = file_path\n",
    "\n",
    "    return largest_file, largest_size\n",
    "\n",
    "\n",
    "directory = '.' \n",
    "largest_file, largest_size = find_largest_file(directory)\n",
    "print(f\"Largest file: {largest_file} with size {largest_size} bytes\")\n"
   ]
  },
  {
   "cell_type": "code",
   "execution_count": null,
   "id": "04af2696",
   "metadata": {},
   "outputs": [],
   "source": []
  }
 ],
 "metadata": {
  "kernelspec": {
   "display_name": "Python 3 (ipykernel)",
   "language": "python",
   "name": "python3"
  },
  "language_info": {
   "codemirror_mode": {
    "name": "ipython",
    "version": 3
   },
   "file_extension": ".py",
   "mimetype": "text/x-python",
   "name": "python",
   "nbconvert_exporter": "python",
   "pygments_lexer": "ipython3",
   "version": "3.11.5"
  }
 },
 "nbformat": 4,
 "nbformat_minor": 5
}
