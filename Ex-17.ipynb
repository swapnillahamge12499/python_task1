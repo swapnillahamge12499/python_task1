{
 "cells": [
  {
   "cell_type": "code",
   "execution_count": null,
   "id": "ee8abc5f",
   "metadata": {},
   "outputs": [],
   "source": [
    "# Python File Handling Exercises\n",
    "# Read content from one file and write it into another file\n",
    "# Write a dictionary to a file in Python\n",
    "# How to check file size in Python?\n",
    "# Find the most repeated word in a text file\n",
    "# How to read specific lines from a File in Python?"
   ]
  },
  {
   "cell_type": "code",
   "execution_count": null,
   "id": "76d9ece0",
   "metadata": {},
   "outputs": [],
   "source": []
  },
  {
   "cell_type": "code",
   "execution_count": 1,
   "id": "64e095cf",
   "metadata": {},
   "outputs": [],
   "source": [
    "def copycontent(source_file, destination_file):\n",
    "    with open(source_file, 'r') as src, open(destination_file, 'w') as dst:\n",
    "        content = src.read()\n",
    "        dst.write(content)\n",
    "\n",
    "source_file = r\"C:\\Users\\12499\\Desktop\\a.py\\11-20Ex\\ab.txt\"\n",
    "destination_file = r\"C:\\Users\\12499\\Desktop\\a.py\\11-20Ex\\abc.txt\"\n",
    "copycontent(source_file, destination_file)"
   ]
  },
  {
   "cell_type": "code",
   "execution_count": null,
   "id": "724769b6",
   "metadata": {},
   "outputs": [],
   "source": [
    "# Write a dictionary to a file in Python"
   ]
  },
  {
   "cell_type": "code",
   "execution_count": 6,
   "id": "93d006f3",
   "metadata": {},
   "outputs": [
    {
     "name": "stdout",
     "output_type": "stream",
     "text": [
      "[WinError 123] The filename, directory name, or volume label syntax is incorrect: 'r\"C:\\\\Users\\\\12499\\\\Desktop\\\\a.py\\\\11-20Ex'\n",
      "C:\\Users\\12499\\Downloads\\Excercise of Python-20240729T030746Z-001\\Excercise of Python\n"
     ]
    }
   ],
   "source": [
    "cd r\"C:\\Users\\12499\\Desktop\\a.py\\11-20Ex"
   ]
  },
  {
   "cell_type": "code",
   "execution_count": 7,
   "id": "6c3df575",
   "metadata": {},
   "outputs": [
    {
     "data": {
      "text/plain": [
       "'C:\\\\Users\\\\12499\\\\Downloads\\\\Excercise of Python-20240729T030746Z-001\\\\Excercise of Python'"
      ]
     },
     "execution_count": 7,
     "metadata": {},
     "output_type": "execute_result"
    }
   ],
   "source": [
    "pwd"
   ]
  },
  {
   "cell_type": "code",
   "execution_count": 9,
   "id": "911a3e22",
   "metadata": {},
   "outputs": [],
   "source": [
    "import json\n",
    "\n",
    "def write_dict_to_file(dictionary, filename):\n",
    "    with open(filename, 'w') as file:\n",
    "        json.dump(dictionary, file)\n",
    "\n",
    "\n",
    "dictionary = {'name': 'Ram', 'age': 130, 'city': 'Delhi'}\n",
    "filename = 'output.json'\n",
    "write_dict_to_file(dictionary, filename)"
   ]
  },
  {
   "cell_type": "code",
   "execution_count": null,
   "id": "1cb3e99b",
   "metadata": {},
   "outputs": [],
   "source": []
  },
  {
   "cell_type": "code",
   "execution_count": null,
   "id": "b1e69a2e",
   "metadata": {},
   "outputs": [],
   "source": [
    "# How to check file size in Python?"
   ]
  },
  {
   "cell_type": "code",
   "execution_count": 11,
   "id": "fe5d0873",
   "metadata": {},
   "outputs": [
    {
     "name": "stdout",
     "output_type": "stream",
     "text": [
      "The size of the file 'output.json' is: 44 bytes\n"
     ]
    }
   ],
   "source": [
    "import os\n",
    "\n",
    "def file_size(filename):\n",
    "    return os.path.getsize(filename)\n",
    "\n",
    "\n",
    "filename = 'output.json'\n",
    "size = file_size(filename)\n",
    "print(f\"The size of the file '{filename}' is: {size} bytes\")\n"
   ]
  },
  {
   "cell_type": "code",
   "execution_count": null,
   "id": "b17d6ba6",
   "metadata": {},
   "outputs": [],
   "source": [
    "# 4. Find the most repeated word in a text file"
   ]
  },
  {
   "cell_type": "code",
   "execution_count": 13,
   "id": "cd3c8baf",
   "metadata": {},
   "outputs": [
    {
     "name": "stdout",
     "output_type": "stream",
     "text": [
      "The most repeated word in the file 'C:\\Users\\12499\\Desktop\\a.py\\11-20Ex\\abc.txt' is: the\n"
     ]
    }
   ],
   "source": [
    "from collections import Counter\n",
    "import re\n",
    "\n",
    "def most_repeated_word(filename):\n",
    "    with open(filename, 'r') as file:\n",
    "        text = file.read().lower()\n",
    "        words = re.findall(r'\\b\\w+\\b', text)\n",
    "        counter = Counter(words)\n",
    "        most_common_word, _ = counter.most_common(1)[0]\n",
    "        return most_common_word\n",
    "\n",
    "filename = r\"C:\\Users\\12499\\Desktop\\a.py\\11-20Ex\\abc.txt\"\n",
    "word = most_repeated_word(filename)\n",
    "print(f\"The most repeated word in the file '{filename}' is: {word}\")\n"
   ]
  },
  {
   "cell_type": "code",
   "execution_count": null,
   "id": "e740e4ef",
   "metadata": {},
   "outputs": [],
   "source": [
    "#5.How to read specific lines from a File in Python?"
   ]
  },
  {
   "cell_type": "code",
   "execution_count": 19,
   "id": "8dfc3a0b",
   "metadata": {},
   "outputs": [
    {
     "name": "stdout",
     "output_type": "stream",
     "text": [
      "The specific lines read from the file are:\n",
      "\n",
      "Paris was awarded the Games at the 131st IOC Session in Lima, Peru, on 13 September 2017. After multiple withdrawals that left only Paris and Los Angeles in contention, the International Olympic Committee (IOC) approved a process to concurrently award the 2024 and 2028 Summer Olympics to the two remaining candidate cities; both of the bids were praised for high technical plans and innovative ways to use a record-breaking number of existing and temporary facilities. Having previously hosted in 1900 and 1924, Paris becomes the second city ever to host the Summer Olympics three times (after London, which hosted the 1908, 1948, and 2012 Games).[5][6] Paris 2024 marks the centenary of Paris 1924 and Chamonix 1924 (which in turn marks the centenary of the Winter Olympics), is the sixth Olympic Games hosted by France (three Summer Olympics and three Winter Olympics) and the first French Olympics since the 1992 Winter Games in Albertville. The Summer Games returns to the traditional four-year Olympiad cycle, after the 2020 edition was postponed until 2021 because of the COVID-19 pandemic.\n"
     ]
    }
   ],
   "source": [
    "def specific_lines(filename, lines):\n",
    "    with open(filename, 'r') as file:\n",
    "        content = file.readlines()\n",
    "        specific_lines = [content[i] for i in lines if i < len(content)]\n",
    "        return specific_lines\n",
    "\n",
    "filename = r\"C:\\Users\\12499\\Desktop\\a.py\\11-20Ex\\abc.txt\"\n",
    "lines_to_read = [4,10]  \n",
    "specific_lines = specific_lines(filename, lines_to_read)\n",
    "print(\"The specific lines read from the file are:\")\n",
    "for line in specific_lines:\n",
    "    print(line.strip())"
   ]
  },
  {
   "cell_type": "code",
   "execution_count": 17,
   "id": "9d42b84e",
   "metadata": {},
   "outputs": [
    {
     "name": "stdout",
     "output_type": "stream",
     "text": [
      "The specific lines read from the file are:\n",
      "Paris was awarded the Games at the 131st IOC Session in Lima, Peru, on 13 September 2017. After multiple withdrawals that left only Paris and Los Angeles in contention, the International Olympic Committee (IOC) approved a process to concurrently award the 2024 and 2028 Summer Olympics to the two remaining candidate cities; both of the bids were praised for high technical plans and innovative ways to use a record-breaking number of existing and temporary facilities. Having previously hosted in 1900 and 1924, Paris becomes the second city ever to host the Summer Olympics three times (after London, which hosted the 1908, 1948, and 2012 Games).[5][6] Paris 2024 marks the centenary of Paris 1924 and Chamonix 1924 (which in turn marks the centenary of the Winter Olympics), is the sixth Olympic Games hosted by France (three Summer Olympics and three Winter Olympics) and the first French Olympics since the 1992 Winter Games in Albertville. The Summer Games returns to the traditional four-year Olympiad cycle, after the 2020 edition was postponed until 2021 because of the COVID-19 pandemic.\n",
      "Paris was awarded the Games at the 131st IOC Session in Lima, Peru, on 13 September 2017. After multiple withdrawals that left only Paris and Los Angeles in contention, the International Olympic Committee (IOC) approved a process to concurrently award the 2024 and 2028 Summer Olympics to the two remaining candidate cities; both of the bids were praised for high technical plans and innovative ways to use a record-breaking number of existing and temporary facilities. Having previously hosted in 1900 and 1924, Paris becomes the second city ever to host the Summer Olympics three times (after London, which hosted the 1908, 1948, and 2012 Games).[5][6] Paris 2024 marks the centenary of Paris 1924 and Chamonix 1924 (which in turn marks the centenary of the Winter Olympics), is the sixth Olympic Games hosted by France (three Summer Olympics and three Winter Olympics) and the first French Olympics since the 1992 Winter Games in Albertville. The Summer Games returns to the traditional four-year Olympiad cycle, after the 2020 edition was postponed until 2021 because of the COVID-19 pandemic.\n",
      "\n"
     ]
    }
   ],
   "source": [
    "def specific_lines(filename, lines):\n",
    "    with open(filename, 'r') as file:\n",
    "        content = file.readlines()\n",
    "        specific_lines = [content[i] for i in lines if i < len(content)]\n",
    "        return specific_lines\n",
    "\n",
    "filename = r\"C:\\Users\\12499\\Desktop\\a.py\\11-20Ex\\abc.txt\"\n",
    "lines_to_read = [12, 4]  \n",
    "\n",
    "\n",
    "lines = specific_lines(filename, lines_to_read)\n",
    "\n",
    "print(\"The specific lines read from the file are:\")\n",
    "for line in lines:\n",
    "    print(line.strip())\n"
   ]
  },
  {
   "cell_type": "code",
   "execution_count": null,
   "id": "c238e600",
   "metadata": {},
   "outputs": [],
   "source": []
  }
 ],
 "metadata": {
  "kernelspec": {
   "display_name": "Python 3 (ipykernel)",
   "language": "python",
   "name": "python3"
  },
  "language_info": {
   "codemirror_mode": {
    "name": "ipython",
    "version": 3
   },
   "file_extension": ".py",
   "mimetype": "text/x-python",
   "name": "python",
   "nbconvert_exporter": "python",
   "pygments_lexer": "ipython3",
   "version": "3.11.5"
  }
 },
 "nbformat": 4,
 "nbformat_minor": 5
}
