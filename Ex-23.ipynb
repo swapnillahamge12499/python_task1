{
 "cells": [
  {
   "cell_type": "code",
   "execution_count": null,
   "id": "1e890fe4",
   "metadata": {},
   "outputs": [],
   "source": [
    "# Make a Pandas DataFrame with two-dimensional list | Python\n",
    "# How to iterate over rows in Pandas Dataframe\n",
    "# Create a pandas column using for loop\n",
    "# Create a Pandas Series from array\n",
    "# Pandas | Basic of Time Series Manipulation"
   ]
  },
  {
   "cell_type": "code",
   "execution_count": null,
   "id": "1e830bf1",
   "metadata": {},
   "outputs": [],
   "source": []
  },
  {
   "cell_type": "code",
   "execution_count": null,
   "id": "97626228",
   "metadata": {},
   "outputs": [],
   "source": [
    "#Make a Pandas DataFrame with a two-dimensional list:"
   ]
  },
  {
   "cell_type": "code",
   "execution_count": 1,
   "id": "ac5bc11f",
   "metadata": {},
   "outputs": [
    {
     "name": "stdout",
     "output_type": "stream",
     "text": [
      "DataFrame:\n",
      "   apple  Banana  Cat\n",
      "0      1       2    3\n",
      "1      4       5    6\n",
      "2      7       8    9\n"
     ]
    }
   ],
   "source": [
    "import pandas as pd\n",
    "\n",
    "data = [[1, 2, 3], [4, 5, 6], [7, 8, 9]]\n",
    "df = pd.DataFrame(data, columns=['apple', 'Banana', 'Cat'])\n",
    "print(\"DataFrame:\")\n",
    "print(df)"
   ]
  },
  {
   "cell_type": "code",
   "execution_count": null,
   "id": "efa19336",
   "metadata": {},
   "outputs": [],
   "source": [
    "#How to iterate over rows in a Pandas DataFrame:"
   ]
  },
  {
   "cell_type": "code",
   "execution_count": 2,
   "id": "23a56d08",
   "metadata": {},
   "outputs": [
    {
     "name": "stdout",
     "output_type": "stream",
     "text": [
      "Index: 0\n",
      "apple     1\n",
      "Banana    2\n",
      "Cat       3\n",
      "Name: 0, dtype: int64\n",
      "Index: 1\n",
      "apple     4\n",
      "Banana    5\n",
      "Cat       6\n",
      "Name: 1, dtype: int64\n",
      "Index: 2\n",
      "apple     7\n",
      "Banana    8\n",
      "Cat       9\n",
      "Name: 2, dtype: int64\n"
     ]
    }
   ],
   "source": [
    "for index, row in df.iterrows():\n",
    "    print(f\"Index: {index}\")\n",
    "    print(row)\n"
   ]
  },
  {
   "cell_type": "code",
   "execution_count": null,
   "id": "99f23128",
   "metadata": {},
   "outputs": [],
   "source": [
    "# Create a pandas column using for loop"
   ]
  },
  {
   "cell_type": "code",
   "execution_count": 3,
   "id": "20877a27",
   "metadata": {},
   "outputs": [
    {
     "name": "stdout",
     "output_type": "stream",
     "text": [
      "DataFrame with new column 'D':\n",
      "   apple  Banana  Cat  D\n",
      "0      1       2    3  0\n",
      "1      4       5    6  3\n",
      "2      7       8    9  6\n"
     ]
    }
   ],
   "source": [
    "df['D'] = [i * 3 for i in range(len(df))]\n",
    "print(\"DataFrame with new column 'D':\")\n",
    "print(df)"
   ]
  },
  {
   "cell_type": "code",
   "execution_count": null,
   "id": "1b13629e",
   "metadata": {},
   "outputs": [],
   "source": [
    "# Create a Pandas Series from array"
   ]
  },
  {
   "cell_type": "code",
   "execution_count": 4,
   "id": "5d41b464",
   "metadata": {},
   "outputs": [
    {
     "name": "stdout",
     "output_type": "stream",
     "text": [
      "Pandas Series from array:\n",
      "0    10\n",
      "1    20\n",
      "2    30\n",
      "3    40\n",
      "4    50\n",
      "dtype: int32\n"
     ]
    }
   ],
   "source": [
    "import numpy as np\n",
    "\n",
    "array = np.array([10, 20, 30, 40, 50])\n",
    "series = pd.Series(array)\n",
    "print(\"Pandas Series from array:\")\n",
    "print(series)"
   ]
  },
  {
   "cell_type": "code",
   "execution_count": null,
   "id": "be7159d1",
   "metadata": {},
   "outputs": [],
   "source": [
    "#Pandas | Basics of Time Series Manipulation:"
   ]
  },
  {
   "cell_type": "code",
   "execution_count": 5,
   "id": "9f62eb32",
   "metadata": {},
   "outputs": [
    {
     "name": "stdout",
     "output_type": "stream",
     "text": [
      "Time Series:\n",
      "2024-01-01   -0.904933\n",
      "2024-01-02    0.761094\n",
      "2024-01-03    0.714195\n",
      "2024-01-04    1.327038\n",
      "2024-01-05   -0.199356\n",
      "2024-01-06   -1.208772\n",
      "2024-01-07    0.083137\n",
      "2024-01-08    0.555119\n",
      "2024-01-09    0.418923\n",
      "2024-01-10    1.496145\n",
      "Freq: D, dtype: float64\n",
      "Resampled Time Series (2D frequency):\n",
      "2024-01-01   -0.071919\n",
      "2024-01-03    1.020616\n",
      "2024-01-05   -0.704064\n",
      "2024-01-07    0.319128\n",
      "2024-01-09    0.957534\n",
      "Freq: 2D, dtype: float64\n"
     ]
    }
   ],
   "source": [
    "# Creating a time series\n",
    "time_rng = pd.date_range(start='2024-01-01', end='2024-01-10', freq='D')\n",
    "time_series = pd.Series(np.random.randn(len(time_rng)), index=time_rng)\n",
    "print(\"Time Series:\")\n",
    "print(time_series)\n",
    "\n",
    "resampled_series = time_series.resample('2D').mean()\n",
    "print(\"Resampled Time Series (2D frequency):\")\n",
    "print(resampled_series)\n"
   ]
  },
  {
   "cell_type": "code",
   "execution_count": null,
   "id": "f08b6253",
   "metadata": {},
   "outputs": [],
   "source": []
  }
 ],
 "metadata": {
  "kernelspec": {
   "display_name": "Python 3 (ipykernel)",
   "language": "python",
   "name": "python3"
  },
  "language_info": {
   "codemirror_mode": {
    "name": "ipython",
    "version": 3
   },
   "file_extension": ".py",
   "mimetype": "text/x-python",
   "name": "python",
   "nbconvert_exporter": "python",
   "pygments_lexer": "ipython3",
   "version": "3.11.5"
  }
 },
 "nbformat": 4,
 "nbformat_minor": 5
}
