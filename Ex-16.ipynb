{
 "cells": [
  {
   "cell_type": "code",
   "execution_count": null,
   "id": "b03c9205",
   "metadata": {},
   "outputs": [],
   "source": [
    "# Python program to reverse a stack\n",
    "# Multithreaded Priority Queue in Python\n",
    "# Check whether the given string is Palindrome using Stack\n",
    "# Program to Calculate the Edge Cover of a Graph\n",
    "# Python Program for N Queen Problem"
   ]
  },
  {
   "cell_type": "code",
   "execution_count": 3,
   "id": "b29a1621",
   "metadata": {},
   "outputs": [
    {
     "data": {
      "text/plain": [
       "'C:\\\\Users\\\\12499\\\\Downloads\\\\Excercise of Python-20240729T030746Z-001\\\\Excercise of Python'"
      ]
     },
     "execution_count": 3,
     "metadata": {},
     "output_type": "execute_result"
    }
   ],
   "source": [
    "import os\n",
    "os.getcwd()"
   ]
  },
  {
   "cell_type": "code",
   "execution_count": null,
   "id": "e2d4ab3c",
   "metadata": {},
   "outputs": [],
   "source": [
    "# Python program to reverse a stack"
   ]
  },
  {
   "cell_type": "code",
   "execution_count": 2,
   "id": "80824737",
   "metadata": {},
   "outputs": [
    {
     "name": "stdout",
     "output_type": "stream",
     "text": [
      "Original stack:\n",
      "[8, 12, 23, 34]\n",
      "Reversed stack:\n",
      "[34, 23, 12, 8]\n"
     ]
    }
   ],
   "source": [
    "class Stack:\n",
    "    def __init__(self):\n",
    "        self.items = []\n",
    "\n",
    "    def is_empty(self):\n",
    "        return self.items == []\n",
    "\n",
    "    def push(self, item):\n",
    "        self.items.append(item)\n",
    "\n",
    "    def pop(self):\n",
    "        if not self.is_empty():\n",
    "            return self.items.pop()\n",
    "        return None\n",
    "\n",
    "    def peek(self):\n",
    "        if not self.is_empty():\n",
    "            return self.items[-1]\n",
    "        return None\n",
    "\n",
    "    def size(self):\n",
    "        return len(self.items)\n",
    "\n",
    "    def reverse(self):\n",
    "        if not self.is_empty():\n",
    "            temp = self.pop()\n",
    "            self.reverse()\n",
    "            self.insert_at_bottom(temp)\n",
    "\n",
    "    def insert_at_bottom(self, item):\n",
    "        if self.is_empty():\n",
    "            self.push(item)\n",
    "        else:\n",
    "            temp = self.pop()\n",
    "            self.insert_at_bottom(item)\n",
    "            self.push(temp)\n",
    "\n",
    "    def display(self):\n",
    "        print(self.items)\n",
    "\n",
    "stack = Stack()\n",
    "stack.push(8)\n",
    "stack.push(12)\n",
    "stack.push(23)\n",
    "stack.push(34)\n",
    "print(\"Original stack:\")\n",
    "stack.display()\n",
    "stack.reverse()\n",
    "print(\"Reversed stack:\")\n",
    "stack.display()"
   ]
  },
  {
   "cell_type": "code",
   "execution_count": null,
   "id": "38b6c58b",
   "metadata": {},
   "outputs": [],
   "source": [
    "#Multithreaded Priority Queue in Python"
   ]
  },
  {
   "cell_type": "code",
   "execution_count": 4,
   "id": "34ad4a0f",
   "metadata": {},
   "outputs": [
    {
     "name": "stdout",
     "output_type": "stream",
     "text": [
      "Processing item E with priority 0Processing item A with priority 1\n",
      "Processing item C with priority 2\n",
      "Processing item B with priority 3\n",
      "Processing item D with priority 4\n",
      "\n"
     ]
    }
   ],
   "source": [
    "import queue\n",
    "import threading\n",
    "import time\n",
    "\n",
    "class Worker(threading.Thread):\n",
    "    def __init__(self, priority_queue):\n",
    "        threading.Thread.__init__(self)\n",
    "        self.priority_queue = priority_queue\n",
    "\n",
    "    def run(self):\n",
    "        while True:\n",
    "            priority, item = self.priority_queue.get()\n",
    "            if item is None:\n",
    "                break\n",
    "            print(f\"Processing item {item} with priority {priority}\")\n",
    "            time.sleep(1)\n",
    "            self.priority_queue.task_done()\n",
    "\n",
    "priority_queue = queue.PriorityQueue()\n",
    "for i in range(5):\n",
    "    Worker(priority_queue).start()\n",
    "\n",
    "items = [(1, 'A'), (3, 'B'), (2, 'C'), (4, 'D'), (0, 'E')]\n",
    "for item in items:\n",
    "    priority_queue.put(item)\n",
    "\n",
    "priority_queue.join()\n",
    "for _ in range(5):\n",
    "    priority_queue.put((0, None))\n"
   ]
  },
  {
   "cell_type": "code",
   "execution_count": null,
   "id": "41177c46",
   "metadata": {},
   "outputs": [],
   "source": [
    "Check whether the given string is Palindrome using Stack"
   ]
  },
  {
   "cell_type": "code",
   "execution_count": 5,
   "id": "28a9ab2d",
   "metadata": {},
   "outputs": [
    {
     "name": "stdout",
     "output_type": "stream",
     "text": [
      "The string 'racecar' is a palindrome: True\n"
     ]
    }
   ],
   "source": [
    "class Stack:\n",
    "    def __init__(self):\n",
    "        self.items = []\n",
    "\n",
    "    def is_empty(self):\n",
    "        return self.items == []\n",
    "\n",
    "    def push(self, item):\n",
    "        self.items.append(item)\n",
    "\n",
    "    def pop(self):\n",
    "        return self.items.pop()\n",
    "\n",
    "    def size(self):\n",
    "        return len(self.items)\n",
    "\n",
    "def is_palindrome(string):\n",
    "    stack = Stack()\n",
    "    for char in string:\n",
    "        stack.push(char)\n",
    "    reversed_string = \"\"\n",
    "    while not stack.is_empty():\n",
    "        reversed_string += stack.pop()\n",
    "    return string == reversed_string\n",
    "\n",
    "\n",
    "string = \"racecar\"\n",
    "print(f\"The string '{string}' is a palindrome: {is_palindrome(string)}\")\n"
   ]
  },
  {
   "cell_type": "code",
   "execution_count": null,
   "id": "928d55ee",
   "metadata": {},
   "outputs": [],
   "source": [
    "# Program to Calculate the Edge Cover of a Graph"
   ]
  },
  {
   "cell_type": "code",
   "execution_count": 4,
   "id": "42dfbeaa",
   "metadata": {},
   "outputs": [
    {
     "name": "stdout",
     "output_type": "stream",
     "text": [
      "Edge cover of the graph: [(0, 2), (1, 3)]\n"
     ]
    }
   ],
   "source": [
    "from collections import defaultdict\n",
    "\n",
    "class Graph:\n",
    "    def __init__(self, vertices):\n",
    "        self.graph = defaultdict(list)\n",
    "        self.V = vertices\n",
    "\n",
    "    def add_edge(self, u, v):\n",
    "        self.graph[u].append(v)\n",
    "        self.graph[v].append(u)\n",
    "\n",
    "    def edge_cover(self):\n",
    "        visited = [False] * self.V\n",
    "        edge_cover = []\n",
    "\n",
    "        for u in range(self.V):\n",
    "            if not visited[u]:\n",
    "                for v in self.graph[u]:\n",
    "                    if not visited[v]:\n",
    "                        edge_cover.append((u, v))\n",
    "                        visited[u] = True\n",
    "                        visited[v] = True\n",
    "                        break\n",
    "\n",
    "        return edge_cover\n",
    "\n",
    "\n",
    "g = Graph(5)\n",
    "g.add_edge(0, 2)\n",
    "g.add_edge(0, 3)\n",
    "g.add_edge(1, 2)\n",
    "g.add_edge(1, 3)\n",
    "g.add_edge(1, 4)\n",
    "g.add_edge(3, 4)\n",
    "print(f\"Edge cover of the graph: {g.edge_cover()}\")\n"
   ]
  },
  {
   "cell_type": "code",
   "execution_count": null,
   "id": "1156a189",
   "metadata": {},
   "outputs": [],
   "source": [
    "# Python Program for N Queen Problem"
   ]
  },
  {
   "cell_type": "code",
   "execution_count": 5,
   "id": "c477358c",
   "metadata": {},
   "outputs": [
    {
     "name": "stdout",
     "output_type": "stream",
     "text": [
      ". . Q .\n",
      "Q . . .\n",
      ". . . Q\n",
      ". Q . .\n",
      "\n"
     ]
    }
   ],
   "source": [
    "def print_board(board):\n",
    "    for row in board:\n",
    "        print(\" \".join(row))\n",
    "    print()\n",
    "\n",
    "def is_safe(board, row, col):\n",
    "    for i in range(col):\n",
    "        if board[row][i] == 'Q':\n",
    "            return False\n",
    "    for i, j in zip(range(row, -1, -1), range(col, -1, -1)):\n",
    "        if board[i][j] == 'Q':\n",
    "            return False\n",
    "    for i, j in zip(range(row, len(board), 1), range(col, -1, -1)):\n",
    "        if board[i][j] == 'Q':\n",
    "            return False\n",
    "    return True\n",
    "\n",
    "def solve_n_queens_util(board, col):\n",
    "    if col >= len(board):\n",
    "        return True\n",
    "    for i in range(len(board)):\n",
    "        if is_safe(board, i, col):\n",
    "            board[i][col] = 'Q'\n",
    "            if solve_n_queens_util(board, col + 1):\n",
    "                return True\n",
    "            board[i][col] = '.'\n",
    "    return False\n",
    "\n",
    "def solve_n_queens(n):\n",
    "    board = [['.' for _ in range(n)] for _ in range(n)]\n",
    "    if not solve_n_queens_util(board, 0):\n",
    "        print(\"Solution does not exist\")\n",
    "        return\n",
    "    print_board(board)\n",
    "\n",
    "\n",
    "solve_n_queens(4)\n"
   ]
  },
  {
   "cell_type": "code",
   "execution_count": null,
   "id": "8a5af45f",
   "metadata": {},
   "outputs": [],
   "source": []
  }
 ],
 "metadata": {
  "kernelspec": {
   "display_name": "Python 3 (ipykernel)",
   "language": "python",
   "name": "python3"
  },
  "language_info": {
   "codemirror_mode": {
    "name": "ipython",
    "version": 3
   },
   "file_extension": ".py",
   "mimetype": "text/x-python",
   "name": "python",
   "nbconvert_exporter": "python",
   "pygments_lexer": "ipython3",
   "version": "3.11.5"
  }
 },
 "nbformat": 4,
 "nbformat_minor": 5
}
