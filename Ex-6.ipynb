{
 "cells": [
  {
   "cell_type": "code",
   "execution_count": null,
   "id": "f583d932",
   "metadata": {},
   "outputs": [],
   "source": [
    "# Python – Assigning Subsequent Rows to Matrix first row elements\n",
    "# Adding and Subtracting Matrices in Python\n",
    "# Python – Group similar elements into Matrix\n",
    "# Python – Row-wise element Addition in Tuple Matrix\n",
    "# Create an n x n square matrix, where all the sub-matrix have the sum of opposite corner elements as even"
   ]
  },
  {
   "cell_type": "code",
   "execution_count": null,
   "id": "66612133",
   "metadata": {},
   "outputs": [],
   "source": [
    "#Assigning Subsequent Rows to Matrix first row elements"
   ]
  },
  {
   "cell_type": "code",
   "execution_count": 2,
   "id": "75fe9146",
   "metadata": {},
   "outputs": [
    {
     "data": {
      "text/plain": [
       "[[8, 4, 5], [8, 4, 5], [8, 23, 7]]"
      ]
     },
     "execution_count": 2,
     "metadata": {},
     "output_type": "execute_result"
    }
   ],
   "source": [
    "matrix=[[2,5,7],[8,4,5],[8,23,7]]\n",
    "matrix[0]=matrix[1]\n",
    "matrix"
   ]
  },
  {
   "cell_type": "code",
   "execution_count": 4,
   "id": "8fbd4dae",
   "metadata": {},
   "outputs": [
    {
     "name": "stdout",
     "output_type": "stream",
     "text": [
      "The original list : [[5, 8, 9], [2, 0, 9], [5, 4, 2], [2, 3, 9]]\n",
      "The Assigned Matrix : {5: [2, 0, 9], 8: [5, 4, 2], 9: [2, 3, 9]}\n"
     ]
    }
   ],
   "source": [
    "test_list = [[5, 8, 9], [2, 0, 9], [5, 4, 2], [2, 3, 9]]\n",
    "print(\"The original list : \" + str(test_list))\n",
    "res = {test_list[0][ele] :  test_list[ele + 1] for ele in range(len(test_list) - 1)}\n",
    "print(\"The Assigned Matrix : \" + str(res))"
   ]
  },
  {
   "cell_type": "code",
   "execution_count": 12,
   "id": "5ddc506a",
   "metadata": {},
   "outputs": [
    {
     "name": "stdout",
     "output_type": "stream",
     "text": [
      "matrix1 : [[5, 8, 9], [2, 0, 9], [5, 4, 2], [2, 3, 9]]\n",
      "New Assigned Matrix : {5: [2, 0, 9], 8: [5, 4, 2], 9: [2, 3, 9]}\n"
     ]
    }
   ],
   "source": [
    "matrix1 = [[5, 8, 9], [2, 0, 9], [5, 4, 2], [2, 3, 9]]\n",
    "print(\"matrix1 : \" + str(matrix1))\n",
    "matrix2 = {matrix1[0][ele] :  matrix1[ele + 1] for ele in range(len(matrix1) - 1)}\n",
    "print(\"New Assigned Matrix : \" + str(matrix2))"
   ]
  },
  {
   "cell_type": "code",
   "execution_count": null,
   "id": "78098bf8",
   "metadata": {},
   "outputs": [],
   "source": [
    "#Adding and Subtracting Matrices in Python"
   ]
  },
  {
   "cell_type": "code",
   "execution_count": 13,
   "id": "e3a464fa",
   "metadata": {},
   "outputs": [
    {
     "name": "stdout",
     "output_type": "stream",
     "text": [
      "first matrix [[1 2]\n",
      " [3 4]]\n",
      "second matrix [[4 5]\n",
      " [6 7]]\n",
      "Add [[ 5  7]\n",
      " [ 9 11]]\n",
      "Sub [[-3 -3]\n",
      " [-3 -3]]\n"
     ]
    }
   ],
   "source": [
    "import numpy as np\n",
    "A=np.array([[1,2],[3,4]])\n",
    "B=np.array([[4,5],[6,7]])\n",
    "print(\"first matrix\",A)\n",
    "print(\"second matrix\",B)\n",
    "add=np.add(A,B)\n",
    "sub=np.subtract(A,B)\n",
    "print(\"Add\",add)\n",
    "print(\"Sub\",sub)"
   ]
  },
  {
   "cell_type": "code",
   "execution_count": null,
   "id": "8270b6e2",
   "metadata": {},
   "outputs": [],
   "source": [
    "#Group similar elements into Matrix"
   ]
  },
  {
   "cell_type": "code",
   "execution_count": 11,
   "id": "924e507d",
   "metadata": {},
   "outputs": [
    {
     "name": "stdout",
     "output_type": "stream",
     "text": [
      "The original list : [1, 3, 5, 1, 3, 2, 5, 4, 2]\n",
      "Matrix after grouping : [[1, 1], [2, 2], [3, 3], [4], [5, 5]]\n"
     ]
    }
   ],
   "source": [
    "from itertools import groupby\n",
    "list1 = [1, 3, 5, 1, 3, 2, 5, 4, 2]\n",
    "print(\"The original list : \" + str(list1))\n",
    "similar_ele= [list(val) for key, val in groupby(sorted(list1))]\n",
    "print(\"Matrix after grouping : \" + str(similar_ele))"
   ]
  },
  {
   "cell_type": "code",
   "execution_count": null,
   "id": "207c8521",
   "metadata": {},
   "outputs": [],
   "source": [
    "#Row-wise element Addition in Tuple Matrix"
   ]
  },
  {
   "cell_type": "code",
   "execution_count": 12,
   "id": "7cdb3d73",
   "metadata": {},
   "outputs": [
    {
     "name": "stdout",
     "output_type": "stream",
     "text": [
      "Row-wise sum: (19, 16, 19)\n"
     ]
    }
   ],
   "source": [
    "matrix = (\n",
    "    (7, 9, 3),\n",
    "    (4, 6, 6),\n",
    "    (7, 3, 9)\n",
    ")\n",
    "sum_row = tuple(sum(row) for row in matrix)\n",
    "\n",
    "print(\"Row-wise sum:\",sum_row)"
   ]
  },
  {
   "cell_type": "code",
   "execution_count": null,
   "id": "d04665fe",
   "metadata": {},
   "outputs": [],
   "source": [
    "#Adding and Subtracting Matrices in Python"
   ]
  },
  {
   "cell_type": "code",
   "execution_count": 10,
   "id": "1c410a5b",
   "metadata": {},
   "outputs": [
    {
     "name": "stdout",
     "output_type": "stream",
     "text": [
      "adding matrix [[10  8  9]\n",
      " [11 16  6]\n",
      " [17 11 11]]\n",
      "subtracting matrix [[-6  0  3]\n",
      " [-3 -2  0]\n",
      " [-1 -3  1]]\n"
     ]
    }
   ],
   "source": [
    "import numpy as np\n",
    "a=[[2,4,6],[4,7,3],[8,4,6]]\n",
    "b=[[8,4,3],[7,9,3],[9,7,5]]\n",
    "c=a+b\n",
    "add=np.add(a,b)\n",
    "print(\"adding matrix\",add)\n",
    "sub=np.subtract(a,b)\n",
    "print(\"subtracting matrix\",sub)"
   ]
  },
  {
   "cell_type": "code",
   "execution_count": null,
   "id": "020f4598",
   "metadata": {},
   "outputs": [],
   "source": [
    "#Create an n x n square matrix, where all the sub-matrix have the sum of opposite corner elements as even"
   ]
  },
  {
   "cell_type": "code",
   "execution_count": 11,
   "id": "786df3bc",
   "metadata": {},
   "outputs": [
    {
     "name": "stdout",
     "output_type": "stream",
     "text": [
      "0 0 0 0\n",
      "0 0 0 0\n",
      "0 0 0 0\n",
      "0 0 0 0\n"
     ]
    }
   ],
   "source": [
    "def create_even_corner_sum_matrix(n):\n",
    "    matrix=[[0]*n for _ in range(n)]\n",
    "    for i in range(n):\n",
    "        for j in range(n):\n",
    "            matrix[i][j]=2*(i*n+j)\n",
    "            return matrix\n",
    "        \n",
    "def print_matrix(matrix):\n",
    "    for row in matrix:\n",
    "        print(\" \".join(map(str,row)))\n",
    "        \n",
    "n=4\n",
    "matrix=create_even_corner_sum_matrix(n)\n",
    "print_matrix(matrix)"
   ]
  },
  {
   "cell_type": "code",
   "execution_count": 17,
   "id": "377efe81",
   "metadata": {},
   "outputs": [],
   "source": []
  },
  {
   "cell_type": "code",
   "execution_count": null,
   "id": "88612f1a",
   "metadata": {},
   "outputs": [],
   "source": []
  }
 ],
 "metadata": {
  "kernelspec": {
   "display_name": "Python 3 (ipykernel)",
   "language": "python",
   "name": "python3"
  },
  "language_info": {
   "codemirror_mode": {
    "name": "ipython",
    "version": 3
   },
   "file_extension": ".py",
   "mimetype": "text/x-python",
   "name": "python",
   "nbconvert_exporter": "python",
   "pygments_lexer": "ipython3",
   "version": "3.11.5"
  }
 },
 "nbformat": 4,
 "nbformat_minor": 5
}
