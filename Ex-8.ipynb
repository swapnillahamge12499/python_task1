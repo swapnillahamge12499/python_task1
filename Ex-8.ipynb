{
 "cells": [
  {
   "cell_type": "code",
   "execution_count": null,
   "id": "4f663cd2",
   "metadata": {},
   "outputs": [],
   "source": [
    "Python Pattern printing Exercises\n",
    "Program to print half Diamond star pattern\n",
    "Programs for printing pyramid patterns in Python\n",
    "Program to print the diamond shape\n",
    "Python | Print an Inverted Star Pattern\n",
    "Python Program to print digit pattern"
   ]
  },
  {
   "cell_type": "code",
   "execution_count": null,
   "id": "0ae7e8b2",
   "metadata": {},
   "outputs": [],
   "source": []
  },
  {
   "cell_type": "code",
   "execution_count": null,
   "id": "f209ced2",
   "metadata": {},
   "outputs": [],
   "source": [
    "# Program to print half Diamond star pattern"
   ]
  },
  {
   "cell_type": "code",
   "execution_count": 1,
   "id": "8085b347",
   "metadata": {},
   "outputs": [
    {
     "name": "stdout",
     "output_type": "stream",
     "text": [
      "*\n",
      "**\n",
      "***\n",
      "****\n",
      "*****\n",
      "****\n",
      "***\n",
      "**\n",
      "*\n"
     ]
    }
   ],
   "source": [
    "def print_half_diamond(n):\n",
    "    for i in range(1, n + 1):\n",
    "        print('*' * i)\n",
    "    for i in range(n - 1, 0, -1):\n",
    "        print('*' * i)\n",
    "\n",
    "n = 5\n",
    "print_half_diamond(n)\n"
   ]
  },
  {
   "cell_type": "code",
   "execution_count": 12,
   "id": "b48cbc75",
   "metadata": {},
   "outputs": [
    {
     "name": "stdout",
     "output_type": "stream",
     "text": [
      "#\n",
      "##\n",
      "###\n",
      "####\n",
      "#####\n",
      "####\n",
      "###\n",
      "##\n",
      "#\n"
     ]
    }
   ],
   "source": [
    "def print_half_diamond(n):\n",
    "    for i in range(1,n+1):\n",
    "        print(\"#\"*i)\n",
    "    for i in range(n-1,0,-1):\n",
    "        print(\"#\"*i)\n",
    "print_half_diamond(5)"
   ]
  },
  {
   "cell_type": "code",
   "execution_count": null,
   "id": "f68691cc",
   "metadata": {},
   "outputs": [],
   "source": [
    "#Programs for printing pyramid patterns in Python"
   ]
  },
  {
   "cell_type": "code",
   "execution_count": 13,
   "id": "390ca079",
   "metadata": {},
   "outputs": [
    {
     "name": "stdout",
     "output_type": "stream",
     "text": [
      "    *\n",
      "   ***\n",
      "  *****\n",
      " *******\n",
      "*********\n"
     ]
    }
   ],
   "source": [
    "def print_simple_pyramid(n):\n",
    "    for i in range(n):\n",
    "        print(' ' * (n - i - 1) + '*' * (2 * i + 1))\n",
    "\n",
    "# Example usage\n",
    "n = 5\n",
    "print_simple_pyramid(n)"
   ]
  },
  {
   "cell_type": "code",
   "execution_count": 15,
   "id": "0a1a39ce",
   "metadata": {},
   "outputs": [
    {
     "name": "stdout",
     "output_type": "stream",
     "text": [
      "         *\n",
      "        ***\n",
      "       *****\n",
      "      *******\n",
      "     *********\n",
      "    ***********\n",
      "   *************\n",
      "  ***************\n",
      " *****************\n",
      "*******************\n"
     ]
    }
   ],
   "source": [
    "def pyramid(n):\n",
    "    for i in range(n):\n",
    "        print(' '*(n-i-1)+'*'*(2*i+1))\n",
    "pyramid(10)"
   ]
  },
  {
   "cell_type": "code",
   "execution_count": 18,
   "id": "582e7c40",
   "metadata": {},
   "outputs": [
    {
     "name": "stdout",
     "output_type": "stream",
     "text": [
      "          *\n",
      "         ***\n",
      "        *****\n",
      "       *******\n",
      "      *********\n",
      "     ***********\n",
      "    *************\n",
      "   ***************\n",
      "  *****************\n",
      " *******************\n"
     ]
    }
   ],
   "source": [
    "def sa(n):\n",
    "    for i in range(n):\n",
    "        print(' '*(n-i)+'*'*(2*i+1))\n",
    "sa(10)"
   ]
  },
  {
   "cell_type": "code",
   "execution_count": null,
   "id": "5937cdf4",
   "metadata": {},
   "outputs": [],
   "source": [
    "Program to print the diamond shape"
   ]
  },
  {
   "cell_type": "code",
   "execution_count": 19,
   "id": "2f955067",
   "metadata": {},
   "outputs": [
    {
     "name": "stdout",
     "output_type": "stream",
     "text": [
      "    *\n",
      "   ***\n",
      "  *****\n",
      " *******\n",
      "*********\n",
      " *******\n",
      "  *****\n",
      "   ***\n",
      "    *\n"
     ]
    }
   ],
   "source": [
    "def print_diamond(n):\n",
    "    for i in range(1, n + 1):\n",
    "        print(' ' * (n - i) + '*' * (2 * i - 1))\n",
    "    for i in range(n - 1, 0, -1):\n",
    "        print(' ' * (n - i) + '*' * (2 * i - 1))\n",
    "\n",
    "n = 5\n",
    "print_diamond(n)\n"
   ]
  },
  {
   "cell_type": "code",
   "execution_count": 25,
   "id": "cfeb3a0d",
   "metadata": {},
   "outputs": [
    {
     "name": "stdout",
     "output_type": "stream",
     "text": [
      "                   *\n",
      "                  ***\n",
      "                 *****\n",
      "                *******\n",
      "               *********\n",
      "              ***********\n",
      "             *************\n",
      "            ***************\n",
      "           *****************\n",
      "          *******************\n",
      "         *********************\n",
      "        ***********************\n",
      "       *************************\n",
      "      ***************************\n",
      "     *****************************\n",
      "    *******************************\n",
      "   *********************************\n",
      "  ***********************************\n",
      " *************************************\n",
      "***************************************\n",
      " *************************************\n",
      "  ***********************************\n",
      "   *********************************\n",
      "    *******************************\n",
      "     *****************************\n",
      "      ***************************\n",
      "       *************************\n",
      "        ***********************\n",
      "         *********************\n",
      "          *******************\n",
      "           *****************\n",
      "            ***************\n",
      "             *************\n",
      "              ***********\n",
      "               *********\n",
      "                *******\n",
      "                 *****\n",
      "                  ***\n",
      "                   *\n"
     ]
    }
   ],
   "source": [
    "def a(n):\n",
    "    for i in range(1,n+1):\n",
    "        print(' '*(n - i) + '*' * (2 * i-1  ))\n",
    "    for i in range(n - 1 , 0 , -1):\n",
    "        print(' '* ( n - i) + '*'*(2 * i -1))\n",
    "\n",
    "a(20)"
   ]
  },
  {
   "cell_type": "code",
   "execution_count": null,
   "id": "e0cd5f78",
   "metadata": {},
   "outputs": [],
   "source": [
    " Print an Inverted Star Pattern"
   ]
  },
  {
   "cell_type": "code",
   "execution_count": 27,
   "id": "d9564735",
   "metadata": {},
   "outputs": [
    {
     "name": "stdout",
     "output_type": "stream",
     "text": [
      "*****\n",
      "****\n",
      "***\n",
      "**\n",
      "*\n"
     ]
    }
   ],
   "source": [
    "def print_inverted_star_pattern(n):\n",
    "    for i in range(n, 0, -1):\n",
    "        print('*' * i)\n",
    "\n",
    "\n",
    "n = 5\n",
    "print_inverted_star_pattern(n)"
   ]
  },
  {
   "cell_type": "code",
   "execution_count": 28,
   "id": "4453ee07",
   "metadata": {},
   "outputs": [
    {
     "name": "stdout",
     "output_type": "stream",
     "text": [
      "##########\n",
      "#########\n",
      "########\n",
      "#######\n",
      "######\n",
      "#####\n",
      "####\n",
      "###\n",
      "##\n",
      "#\n"
     ]
    }
   ],
   "source": [
    "def ab(n):\n",
    "    for i in range(n,0,-1):\n",
    "        print('#' * i)\n",
    "\n",
    "ab(10)"
   ]
  },
  {
   "cell_type": "code",
   "execution_count": null,
   "id": "cfee8508",
   "metadata": {},
   "outputs": [],
   "source": [
    "Python Program to print digit pattern"
   ]
  },
  {
   "cell_type": "code",
   "execution_count": 29,
   "id": "72a45357",
   "metadata": {},
   "outputs": [
    {
     "name": "stdout",
     "output_type": "stream",
     "text": [
      "1 \n",
      "1 2 \n",
      "1 2 3 \n",
      "1 2 3 4 \n",
      "1 2 3 4 5 \n"
     ]
    }
   ],
   "source": [
    "def print_digit_pyramid(n):\n",
    "    for i in range(1, n + 1):\n",
    "        for j in range(1, i + 1):\n",
    "            print(j, end=' ')\n",
    "        print()\n",
    "\n",
    "\n",
    "n = 5\n",
    "print_digit_pyramid(n)\n"
   ]
  },
  {
   "cell_type": "code",
   "execution_count": 32,
   "id": "2d1814b9",
   "metadata": {},
   "outputs": [
    {
     "name": "stdout",
     "output_type": "stream",
     "text": [
      "1 \n",
      "1 2 \n",
      "1 2 3 \n",
      "1 2 3 4 \n",
      "1 2 3 4 5 \n",
      "1 2 3 4 5 6 \n",
      "1 2 3 4 5 6 7 \n",
      "1 2 3 4 5 6 7 8 \n",
      "1 2 3 4 5 6 7 8 9 \n",
      "1 2 3 4 5 6 7 8 9 10 \n"
     ]
    }
   ],
   "source": [
    "def digita(n):\n",
    "    for i in range(1,n+1):\n",
    "        for j in range(1,i+1):\n",
    "            print(j,end=\" \")\n",
    "        print()\n",
    "        \n",
    "\n",
    "digita(10)"
   ]
  },
  {
   "cell_type": "code",
   "execution_count": null,
   "id": "eb59d404",
   "metadata": {},
   "outputs": [],
   "source": []
  }
 ],
 "metadata": {
  "kernelspec": {
   "display_name": "Python 3 (ipykernel)",
   "language": "python",
   "name": "python3"
  },
  "language_info": {
   "codemirror_mode": {
    "name": "ipython",
    "version": 3
   },
   "file_extension": ".py",
   "mimetype": "text/x-python",
   "name": "python",
   "nbconvert_exporter": "python",
   "pygments_lexer": "ipython3",
   "version": "3.11.5"
  }
 },
 "nbformat": 4,
 "nbformat_minor": 5
}
