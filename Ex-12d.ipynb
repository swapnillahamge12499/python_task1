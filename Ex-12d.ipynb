{
 "cells": [
  {
   "cell_type": "code",
   "execution_count": null,
   "id": "e98001fa",
   "metadata": {},
   "outputs": [],
   "source": [
    "Python Regex Exercises\n",
    "Python program to find the type of IP Address using Regex\n",
    "Python program to find Indices of Overlapping Substrings\n",
    "Python program to extract Strings between HTML Tags\n",
    "Python – Check if String Contain Only Defined Characters using Regex\n",
    "Python program to find files having a particular extension using RegEx"
   ]
  },
  {
   "cell_type": "code",
   "execution_count": null,
   "id": "7c5cad79",
   "metadata": {},
   "outputs": [],
   "source": [
    "Python program to find the type of IP Address using Regex"
   ]
  },
  {
   "cell_type": "code",
   "execution_count": 5,
   "id": "27291924",
   "metadata": {},
   "outputs": [
    {
     "data": {
      "text/plain": [
       "['https://www.google.com/search?q=mango&rlz=1C1VDKB_enIN1043IN1043&oq=mango&gs_lcrp=EgZjaHJvbWUqBwgAEAAYjwIyBwgAEAAYjwIyFQgBEC4YQxjHARixAxjRAxiABBiKBTIMCAIQABhDGIAEGIoFMgwIAxAAGEMYgAQYigUyDAgEEAAYQxiABBiKBTIMCAUQABhDGIAEGIoFMgwIBhAAGEMYgAQYigUyEggHEC4YQxiDARixAxiABBiKBTIMCAgQABhDGIAEGIoFMgwICRAAGEMYgAQYigXSAQg3NzIzajBqN6gCCLACAQ&sourceid=chrome&ie=UTF-8']"
      ]
     },
     "execution_count": 5,
     "metadata": {},
     "output_type": "execute_result"
    }
   ],
   "source": [
    "import re\n",
    "lst1=\"This is google url https://www.google.com/search?q=mango&rlz=1C1VDKB_enIN1043IN1043&oq=mango&gs_lcrp=EgZjaHJvbWUqBwgAEAAYjwIyBwgAEAAYjwIyFQgBEC4YQxjHARixAxjRAxiABBiKBTIMCAIQABhDGIAEGIoFMgwIAxAAGEMYgAQYigUyDAgEEAAYQxiABBiKBTIMCAUQABhDGIAEGIoFMgwIBhAAGEMYgAQYigUyEggHEC4YQxiDARixAxiABBiKBTIMCAgQABhDGIAEGIoFMgwICRAAGEMYgAQYigXSAQg3NzIzajBqN6gCCLACAQ&sourceid=chrome&ie=UTF-8\"\n",
    "pattern=r\"https://\\S*\"\n",
    "re.findall(pattern,lst1)"
   ]
  },
  {
   "cell_type": "code",
   "execution_count": 11,
   "id": "01404115",
   "metadata": {},
   "outputs": [
    {
     "name": "stdout",
     "output_type": "stream",
     "text": [
      "[['https://www.google.com/search?q=mango&rlz=1C1VDKB_enIN1043IN1043&oq=mango&gs_lcrp=EgZjaHJvbWUqBwgAEAAYjwIyBwgAEAAYjwIyFQgBEC4YQxjHARixAxjRAxiABBiKBTIMCAIQABhDGIAEGIoFMgwIAxAAGEMYgAQYigUyDAgEEAAYQxiABBiKBTIMCAUQABhDGIAEGIoFMgwIBhAAGEMYgAQYigUyEggHEC4YQxiDARixAxiABBiKBTIMCAgQABhDGIAEGIoFMgwICRAAGEMYgAQYigXSAQg3NzIzajBqN6gCCLACAQ&sourceid=chrome&ie=UTF-8'], ['https://en.wikipedia.org/wiki/List_of_time_zones_by_country']]\n"
     ]
    }
   ],
   "source": [
    "lst2=[\n",
    "    \"This is google url https://www.google.com/search?q=mango&rlz=1C1VDKB_enIN1043IN1043&oq=mango&gs_lcrp=EgZjaHJvbWUqBwgAEAAYjwIyBwgAEAAYjwIyFQgBEC4YQxjHARixAxjRAxiABBiKBTIMCAIQABhDGIAEGIoFMgwIAxAAGEMYgAQYigUyDAgEEAAYQxiABBiKBTIMCAUQABhDGIAEGIoFMgwIBhAAGEMYgAQYigUyEggHEC4YQxiDARixAxiABBiKBTIMCAgQABhDGIAEGIoFMgwICRAAGEMYgAQYigXSAQg3NzIzajBqN6gCCLACAQ&sourceid=chrome&ie=UTF-8\",\n",
    "    \"https://en.wikipedia.org/wiki/List_of_time_zones_by_country\"\n",
    "]\n",
    "\n",
    "\n",
    "al=[]\n",
    "pattern=r\"https://\\S*\"\n",
    "for i in lst2:\n",
    "    al.append(re.findall(pattern , i))\n",
    "    \n",
    "    \n",
    "print(al)"
   ]
  },
  {
   "cell_type": "code",
   "execution_count": null,
   "id": "fa78747f",
   "metadata": {},
   "outputs": [],
   "source": [
    "#Python program to find Indices of Overlapping Substrings"
   ]
  },
  {
   "cell_type": "code",
   "execution_count": 13,
   "id": "21962089",
   "metadata": {},
   "outputs": [
    {
     "name": "stdout",
     "output_type": "stream",
     "text": [
      "Indices of overlapping  'aba' in 'ababaabaabaaba': [0, 2, 5, 8, 11]\n"
     ]
    }
   ],
   "source": [
    "import re\n",
    "\n",
    "def indices1(string, substring):\n",
    "    indices = []\n",
    "    pattern = f'(?={re.escape(substring)})'\n",
    "    for match in re.finditer(pattern, string):\n",
    "        indices.append(match.start())\n",
    "    return indices\n",
    "\n",
    "\n",
    "string = \"ababaabaabaaba\"\n",
    "substring = \"aba\"\n",
    "indices = indices1(string, substring)\n",
    "print(f\"Indices of overlapping  '{substring}' in '{string}': {indices}\")"
   ]
  },
  {
   "cell_type": "code",
   "execution_count": null,
   "id": "f6217cfd",
   "metadata": {},
   "outputs": [],
   "source": [
    "#Python program to extract Strings between HTML Tags"
   ]
  },
  {
   "cell_type": "code",
   "execution_count": 10,
   "id": "cc204b5a",
   "metadata": {},
   "outputs": [
    {
     "data": {
      "text/plain": [
       "['<html>', '<head>', '<title</title>']"
      ]
     },
     "execution_count": 10,
     "metadata": {},
     "output_type": "execute_result"
    }
   ],
   "source": [
    "html_text=\"\"\" \n",
    "<html>\n",
    "<head><title</title> \n",
    "\"\"\"\n",
    "pattern=r'<[^>]*>'\n",
    "re.findall(pattern,html_text)"
   ]
  },
  {
   "cell_type": "code",
   "execution_count": null,
   "id": "8896b058",
   "metadata": {},
   "outputs": [],
   "source": [
    "#Check if String Contain Only Defined Characters using Regex"
   ]
  },
  {
   "cell_type": "code",
   "execution_count": 16,
   "id": "fec29b64",
   "metadata": {},
   "outputs": [
    {
     "name": "stdout",
     "output_type": "stream",
     "text": [
      " string 'abcabc' contain characters 'abc'? True\n"
     ]
    }
   ],
   "source": [
    "import re\n",
    "\n",
    "def contains_characters(string, allowed_chars):\n",
    "    pattern = f'^[{re.escape(allowed_chars)}]*$'\n",
    "    return re.fullmatch(pattern, string) is not None\n",
    "\n",
    "\n",
    "string = \"abcabc\"\n",
    "allowed_chars = \"abc\"\n",
    "result = contains_characters(string, allowed_chars)\n",
    "print(f\" string '{string}' contain characters '{allowed_chars}'? {result}\")\n"
   ]
  },
  {
   "cell_type": "code",
   "execution_count": null,
   "id": "d6057acd",
   "metadata": {},
   "outputs": [],
   "source": [
    "#Python program to find files having a particular extension using RegEx"
   ]
  },
  {
   "cell_type": "code",
   "execution_count": 13,
   "id": "a8402479",
   "metadata": {},
   "outputs": [
    {
     "data": {
      "text/plain": [
       "'C:\\\\Users\\\\Swapnil\\\\Desktop\\\\Excercise of Python'"
      ]
     },
     "execution_count": 13,
     "metadata": {},
     "output_type": "execute_result"
    }
   ],
   "source": [
    "import os\n",
    "os.getcwd()"
   ]
  },
  {
   "cell_type": "code",
   "execution_count": 21,
   "id": "fa78ab1f",
   "metadata": {},
   "outputs": [
    {
     "name": "stdout",
     "output_type": "stream",
     "text": [
      "Files with '.txt' extension:\n",
      "C:\\Users\\12499\\Desktop\\a.py\\11-20Ex\\ab.txt\n",
      "C:\\Users\\12499\\Desktop\\a.py\\11-20Ex\\abc.txt\n",
      "C:\\Users\\12499\\Desktop\\a.py\\11-20Ex\\bcd.txt\n"
     ]
    }
   ],
   "source": [
    "import os\n",
    "import re\n",
    "\n",
    "def extension1(directory, extension):\n",
    "    if not extension.startswith('.'):\n",
    "        extension = '.' + extension\n",
    "\n",
    "    escaped_extension = re.escape(extension)\n",
    "    \n",
    "  \n",
    "    pattern = re.compile(rf'.*{escaped_extension}$')\n",
    "    \n",
    "  \n",
    "    matching_files = []\n",
    "    \n",
    "    \n",
    "    for root, _, files in os.walk(directory):\n",
    "        for file in files:\n",
    "            if pattern.match(file):\n",
    "                matching_files.append(os.path.join(root, file))\n",
    "    \n",
    "    return matching_files\n",
    "\n",
    "\n",
    "directory = r\"C:\\Users\\12499\\Desktop\\a.py\\11-20Ex\" \n",
    "extension = \".txt\"\n",
    "matching_files = extension1(directory, extension)\n",
    "print(f\"Files with '{extension}' extension:\")\n",
    "for file in matching_files:\n",
    "    print(file)\n",
    "    "
   ]
  },
  {
   "cell_type": "code",
   "execution_count": 19,
   "id": "9102f45b",
   "metadata": {},
   "outputs": [
    {
     "name": "stdout",
     "output_type": "stream",
     "text": [
      "Files with '.txt' extension:\n",
      "C:\\Users\\12499\\Desktop\\a.py\\11-20Ex\\ab.txt\n",
      "C:\\Users\\12499\\Desktop\\a.py\\11-20Ex\\abc.txt\n",
      "C:\\Users\\12499\\Desktop\\a.py\\11-20Ex\\bcd.txt\n"
     ]
    }
   ],
   "source": [
    "import os\n",
    "import re\n",
    "\n",
    "def find_files_with_extension(directory, extension):\n",
    "    if not extension.startswith('.'):\n",
    "        extension = '.' + extension\n",
    "\n",
    "    escaped_extension = re.escape(extension)\n",
    "    pattern = re.compile(rf'.*{escaped_extension}$')\n",
    "\n",
    "    matching_files = []\n",
    "\n",
    "    for root, _, files in os.walk(directory):\n",
    "        for file in files:\n",
    "            if pattern.match(file):\n",
    "                matching_files.append(os.path.join(root, file))\n",
    "\n",
    "    return matching_files\n",
    "\n",
    "\n",
    "directory = r\"C:\\Users\\12499\\Desktop\\a.py\\11-20Ex\"  \n",
    "extension = \".txt\"\n",
    "\n",
    "matching_files = find_files_with_extension(directory, extension)\n",
    "print(f\"Files with '{extension}' extension:\")\n",
    "for file in matching_files:\n",
    "    print(file)"
   ]
  },
  {
   "cell_type": "code",
   "execution_count": null,
   "id": "29f2d7b6",
   "metadata": {},
   "outputs": [],
   "source": []
  }
 ],
 "metadata": {
  "kernelspec": {
   "display_name": "Python 3 (ipykernel)",
   "language": "python",
   "name": "python3"
  },
  "language_info": {
   "codemirror_mode": {
    "name": "ipython",
    "version": 3
   },
   "file_extension": ".py",
   "mimetype": "text/x-python",
   "name": "python",
   "nbconvert_exporter": "python",
   "pygments_lexer": "ipython3",
   "version": "3.11.5"
  }
 },
 "nbformat": 4,
 "nbformat_minor": 5
}
