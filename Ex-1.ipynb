{
 "cells": [
  {
   "cell_type": "code",
   "execution_count": null,
   "id": "480a2e19",
   "metadata": {},
   "outputs": [],
   "source": [
    "Python program to interchange first and last elements in a list\n",
    "Python program to swap two elements in a list\n",
    "Python | Ways to find length of list\n",
    "Maximum of two numbers in Python\n",
    "Minimum of two numbers in Python"
   ]
  },
  {
   "cell_type": "code",
   "execution_count": 1,
   "id": "acb203c5",
   "metadata": {},
   "outputs": [
    {
     "data": {
      "text/plain": [
       "[2, 56, 7, 23, 4]"
      ]
     },
     "execution_count": 1,
     "metadata": {},
     "output_type": "execute_result"
    }
   ],
   "source": [
    "lst1=[2,4,7,23,56]\n",
    "lst1[1],lst1[-1]=lst1[-1],lst1[1]\n",
    "lst1"
   ]
  },
  {
   "cell_type": "code",
   "execution_count": 1,
   "id": "9399c18e",
   "metadata": {},
   "outputs": [
    {
     "data": {
      "text/plain": [
       "[2, 4, 7, 23, 4]"
      ]
     },
     "execution_count": 1,
     "metadata": {},
     "output_type": "execute_result"
    }
   ],
   "source": [
    "lst1=[2,4,7,23,4,5476,87m,90]\n",
    "lst1[1],lst1[-1]=lst1[-1],lst1[1]\n",
    "lst1"
   ]
  },
  {
   "cell_type": "code",
   "execution_count": null,
   "id": "064132e3",
   "metadata": {},
   "outputs": [],
   "source": [
    "Python program to swap two elements in a list"
   ]
  },
  {
   "cell_type": "code",
   "execution_count": 5,
   "id": "7ccb0cce",
   "metadata": {},
   "outputs": [
    {
     "data": {
      "text/plain": [
       "[23, 97, 78, 56, 37]"
      ]
     },
     "execution_count": 5,
     "metadata": {},
     "output_type": "execute_result"
    }
   ],
   "source": [
    "def swap(lst1,pos1,pos2):\n",
    "    lst1[pos1],lst1[pos2]=lst1[pos2],lst1[pos1]\n",
    "    return lst1\n",
    "pos1=1\n",
    "pos2=3\n",
    "lst1=[23,56,78,97,37]\n",
    "swap(lst1,pos1,pos2)\n"
   ]
  },
  {
   "cell_type": "code",
   "execution_count": 3,
   "id": "31b3f09d",
   "metadata": {},
   "outputs": [
    {
     "data": {
      "text/plain": [
       "[65, 36, 94, 96, 78, 75, 87, 3, 67]"
      ]
     },
     "execution_count": 3,
     "metadata": {},
     "output_type": "execute_result"
    }
   ],
   "source": [
    "def swap(lst1,pos1,pos2):\n",
    "    lst1[pos1],lst1[pos2]=lst1[pos2],lst1[pos1]\n",
    "    return lst1\n",
    "pos1=1\n",
    "pos4=4\n",
    "lst1=[65,78,94,96,36,75,87,3,67]\n",
    "swap(lst1,pos1,pos4)"
   ]
  },
  {
   "cell_type": "code",
   "execution_count": null,
   "id": "857815f7",
   "metadata": {},
   "outputs": [],
   "source": [
    "Python | Ways to find length of list"
   ]
  },
  {
   "cell_type": "code",
   "execution_count": 6,
   "id": "b3ebaeff",
   "metadata": {},
   "outputs": [
    {
     "data": {
      "text/plain": [
       "5"
      ]
     },
     "execution_count": 6,
     "metadata": {},
     "output_type": "execute_result"
    }
   ],
   "source": [
    "lst1=[23,44,556,77,88,99,7127]\n",
    "len(lst)"
   ]
  },
  {
   "cell_type": "code",
   "execution_count": null,
   "id": "25c4cb84",
   "metadata": {},
   "outputs": [],
   "source": [
    "lst1=[67,98,23,34,22,12,23,44]\n",
    "s=0\n",
    "for i in lst1:\n",
    "    s+=1\n",
    "print()"
   ]
  },
  {
   "cell_type": "code",
   "execution_count": null,
   "id": "40bea03b",
   "metadata": {},
   "outputs": [],
   "source": [
    "Maximum of two numbers in Python"
   ]
  },
  {
   "cell_type": "code",
   "execution_count": 8,
   "id": "27ed64a7",
   "metadata": {},
   "outputs": [
    {
     "name": "stdout",
     "output_type": "stream",
     "text": [
      "4\n"
     ]
    }
   ],
   "source": [
    "def ma(a, b):\n",
    "    \n",
    "    if a >= b:\n",
    "        return a\n",
    "    else:\n",
    "        return b\n",
    "    \n",
    "\n",
    "a = 2\n",
    "b = 4\n",
    "print(ma(a, b))\n"
   ]
  },
  {
   "cell_type": "code",
   "execution_count": null,
   "id": "3e026323",
   "metadata": {},
   "outputs": [],
   "source": [
    "Minimum of two numbers in Python"
   ]
  },
  {
   "cell_type": "code",
   "execution_count": 11,
   "id": "8981478b",
   "metadata": {},
   "outputs": [
    {
     "data": {
      "text/plain": [
       "25"
      ]
     },
     "execution_count": 11,
     "metadata": {},
     "output_type": "execute_result"
    }
   ],
   "source": [
    "def mi(a , b):\n",
    "    if a<=b:\n",
    "        return a\n",
    "    else:\n",
    "        return b\n",
    "mi(25,76)"
   ]
  },
  {
   "cell_type": "code",
   "execution_count": null,
   "id": "0cf4c46d",
   "metadata": {},
   "outputs": [],
   "source": []
  }
 ],
 "metadata": {
  "kernelspec": {
   "display_name": "Python 3 (ipykernel)",
   "language": "python",
   "name": "python3"
  },
  "language_info": {
   "codemirror_mode": {
    "name": "ipython",
    "version": 3
   },
   "file_extension": ".py",
   "mimetype": "text/x-python",
   "name": "python",
   "nbconvert_exporter": "python",
   "pygments_lexer": "ipython3",
   "version": "3.11.5"
  }
 },
 "nbformat": 4,
 "nbformat_minor": 5
}
