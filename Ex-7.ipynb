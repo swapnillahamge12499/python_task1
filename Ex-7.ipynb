{
 "cells": [
  {
   "cell_type": "code",
   "execution_count": null,
   "id": "902a3f0b",
   "metadata": {},
   "outputs": [],
   "source": [
    "How to get list of parameters name from a function in Python?\n",
    "How to Print Multiple Arguments in Python?\n",
    "Python program to find the power of a number using recursion\n",
    "Sorting objects of user defined class in Python\n",
    "Functions that accept variable length key value pair as arguments"
   ]
  },
  {
   "cell_type": "code",
   "execution_count": null,
   "id": "7bb40e93",
   "metadata": {},
   "outputs": [],
   "source": [
    "#How to get list of parameters name from a function in Python?"
   ]
  },
  {
   "cell_type": "code",
   "execution_count": 1,
   "id": "c04e5996",
   "metadata": {},
   "outputs": [
    {
     "name": "stdout",
     "output_type": "stream",
     "text": [
      "Parameter names: ['a', 'b', 'c', 'd', 'e']\n"
     ]
    }
   ],
   "source": [
    "import inspect\n",
    "\n",
    "def example_function(a,b,c,d,e):\n",
    "    pass\n",
    "params = inspect.signature(example_function).parameters\n",
    "param_names = [param for param in params]\n",
    "print(\"Parameter names:\", param_names)"
   ]
  },
  {
   "cell_type": "code",
   "execution_count": null,
   "id": "e4cddfaa",
   "metadata": {},
   "outputs": [],
   "source": [
    "#How to Print Multiple Arguments in Python?"
   ]
  },
  {
   "cell_type": "code",
   "execution_count": 10,
   "id": "8133af8e",
   "metadata": {},
   "outputs": [
    {
     "name": "stdout",
     "output_type": "stream",
     "text": [
      "Byyyyyyyyyyyyyyyyyy Swapnil Hello world! This is Python.\n"
     ]
    }
   ],
   "source": [
    "def print_multiple(*args):\n",
    "    print(*args)\n",
    "\n",
    "print_multiple(\"Byyyyyyyyyyyyyyyyyy\",\"Swapnil\",\"Hello\", \"world!\", \"This\", \"is\", \"Python.\")"
   ]
  },
  {
   "cell_type": "code",
   "execution_count": null,
   "id": "0230413c",
   "metadata": {},
   "outputs": [],
   "source": [
    "#Python program to find the power of a number using recursion"
   ]
  },
  {
   "cell_type": "code",
   "execution_count": 9,
   "id": "62daf1e8",
   "metadata": {},
   "outputs": [
    {
     "name": "stdout",
     "output_type": "stream",
     "text": [
      "2^3 = 8\n"
     ]
    }
   ],
   "source": [
    "def power(base, exp):\n",
    "    if exp == 0:\n",
    "        return 1\n",
    "    else:\n",
    "        return base * power(base, exp - 1)\n",
    "   \n",
    "base = 4\n",
    "exp = 3\n",
    "result = power(base, exp)\n",
    "print(f\"{base}^{exp} = {result}\")"
   ]
  },
  {
   "cell_type": "code",
   "execution_count": 11,
   "id": "c4ff828d",
   "metadata": {},
   "outputs": [
    {
     "name": "stdout",
     "output_type": "stream",
     "text": [
      "2^3=8\n"
     ]
    }
   ],
   "source": [
    "def power(base,exp):\n",
    "    if exp==0:\n",
    "        return 1\n",
    "    else:\n",
    "        return base * power(base,exp - 1)\n",
    "base=2\n",
    "exp=3\n",
    "result=power(base,exp)\n",
    "print(f\"{base}^{exp}={result}\")"
   ]
  },
  {
   "cell_type": "code",
   "execution_count": null,
   "id": "88976d63",
   "metadata": {},
   "outputs": [],
   "source": [
    "#Sorting objects of user defined class in Python"
   ]
  },
  {
   "cell_type": "code",
   "execution_count": 1,
   "id": "c93313b9",
   "metadata": {},
   "outputs": [],
   "source": [
    "class Person:\n",
    "    def __init__(self, name, age):\n",
    "        self.name = name\n",
    "        self.age = age\n",
    "    \n",
    "    def __repr__(self):\n",
    "        return f\"{self.name} ({self.age})\"\n",
    "\n",
    "\n",
    "people = [\n",
    "    Person(\"yuvi\", 30),\n",
    "    Person(\"sachin\", 25),\n",
    "    Person(\"mas\", 35)]"
   ]
  },
  {
   "cell_type": "code",
   "execution_count": 5,
   "id": "4d0633f1",
   "metadata": {},
   "outputs": [
    {
     "name": "stdout",
     "output_type": "stream",
     "text": [
      "[Alice (30), Bob (25), Charlie (35)]\n"
     ]
    }
   ],
   "source": [
    "print(people)"
   ]
  },
  {
   "cell_type": "code",
   "execution_count": 8,
   "id": "95b87387",
   "metadata": {},
   "outputs": [
    {
     "name": "stdout",
     "output_type": "stream",
     "text": [
      "[Bob (25), Alice (30), Charlie (35)]\n"
     ]
    }
   ],
   "source": [
    "print(sorted(people,key=lambda x:x.age))"
   ]
  },
  {
   "cell_type": "code",
   "execution_count": null,
   "id": "fd8ecb8c",
   "metadata": {},
   "outputs": [],
   "source": [
    "#Sorting objects of user defined class in Python"
   ]
  },
  {
   "cell_type": "code",
   "execution_count": 9,
   "id": "25f43cef",
   "metadata": {},
   "outputs": [
    {
     "name": "stdout",
     "output_type": "stream",
     "text": [
      "name: Alice\n",
      "age: 30\n",
      "location: Wonderland\n"
     ]
    }
   ],
   "source": [
    "def print_kwargs(**kwargs):\n",
    "    for key, value in kwargs.items():\n",
    "        print(f\"{key}: {value}\")\n",
    "\n",
    "print_kwargs(name=\"Alice\", age=30, location=\"Wonderland\")"
   ]
  },
  {
   "cell_type": "code",
   "execution_count": null,
   "id": "d1a5b226",
   "metadata": {},
   "outputs": [],
   "source": [
    "#Functions that accept variable length key value pair as arguments"
   ]
  },
  {
   "cell_type": "code",
   "execution_count": 1,
   "id": "f400d8bc",
   "metadata": {},
   "outputs": [
    {
     "name": "stdout",
     "output_type": "stream",
     "text": [
      "name: Swapnil\n",
      "age: 22\n",
      "city: NASHIK\n"
     ]
    }
   ],
   "source": [
    "def print_info(**kwargs):\n",
    "    for key, value in kwargs.items():\n",
    "        print(f\"{key}: {value}\")\n",
    "\n",
    "# Example usage\n",
    "print_info(name=\"Swapnil\", age=22, city=\"NASHIK\")"
   ]
  },
  {
   "cell_type": "code",
   "execution_count": null,
   "id": "d2d7cef8",
   "metadata": {},
   "outputs": [],
   "source": []
  }
 ],
 "metadata": {
  "kernelspec": {
   "display_name": "Python 3 (ipykernel)",
   "language": "python",
   "name": "python3"
  },
  "language_info": {
   "codemirror_mode": {
    "name": "ipython",
    "version": 3
   },
   "file_extension": ".py",
   "mimetype": "text/x-python",
   "name": "python",
   "nbconvert_exporter": "python",
   "pygments_lexer": "ipython3",
   "version": "3.11.5"
  }
 },
 "nbformat": 4,
 "nbformat_minor": 5
}
