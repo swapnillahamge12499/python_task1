{
 "cells": [
  {
   "cell_type": "code",
   "execution_count": null,
   "id": "e98c652e",
   "metadata": {},
   "outputs": [],
   "source": [
    "# Python program to Find the size of a Tuple\n",
    "# Python – Maximum and Minimum K elements in Tuple\n",
    "# Python – Sum of tuple elements\n",
    "# Python – Row-wise element Addition in Tuple Matrix\n",
    "# Create a list of tuples from given list having number and its cube in each tuple"
   ]
  },
  {
   "cell_type": "code",
   "execution_count": null,
   "id": "d5358fd6",
   "metadata": {},
   "outputs": [],
   "source": [
    "#Python program to Find the size of a Tuple"
   ]
  },
  {
   "cell_type": "code",
   "execution_count": 1,
   "id": "a81d6796",
   "metadata": {},
   "outputs": [
    {
     "data": {
      "text/plain": [
       "5"
      ]
     },
     "execution_count": 1,
     "metadata": {},
     "output_type": "execute_result"
    }
   ],
   "source": [
    "s=(\"apple\",\"mango\",2,5,8)\n",
    "len(s)"
   ]
  },
  {
   "cell_type": "code",
   "execution_count": null,
   "id": "79e1f8b8",
   "metadata": {},
   "outputs": [],
   "source": []
  },
  {
   "cell_type": "code",
   "execution_count": null,
   "id": "24fff7a1",
   "metadata": {},
   "outputs": [],
   "source": [
    "#Maximum and Minimum K elements in Tuple"
   ]
  },
  {
   "cell_type": "code",
   "execution_count": 13,
   "id": "d121c2f4",
   "metadata": {},
   "outputs": [
    {
     "name": "stdout",
     "output_type": "stream",
     "text": [
      "The original  :(0, 5, 5, 5, 20, 20, 3, 7, 6, 6, 8, 8, 64)\n",
      "The minimum  maximum values :(0, 3, 20, 64)\n"
     ]
    }
   ],
   "source": [
    "a1=(0,5,5,5,20,20,3,7,6,6,8,8,64)\n",
    "print(\"The original  :\"+ str(a1))\n",
    "k=2\n",
    "res=[]\n",
    "a1 = list(sorted(a1))\n",
    "for idx,val in enumerate(a1):\n",
    "    if idx < K or idx >= len(a1)-k:\n",
    "        res.append(val)\n",
    "res=tuple(res)\n",
    "print(\"The minimum  maximum values :\"+ str(res))"
   ]
  },
  {
   "cell_type": "code",
   "execution_count": 14,
   "id": "b39595b4",
   "metadata": {},
   "outputs": [
    {
     "name": "stdout",
     "output_type": "stream",
     "text": [
      "The Original Tuple is :(34, 23, 23, 67, 86, 24, 34, 12, 98)\n",
      "The minimum & maximum value :(0, 3, 20, 64)\n"
     ]
    }
   ],
   "source": [
    "b1=(34,23,23,67,86,24,34,12,98)\n",
    "print(\"The Original Tuple is :\"+str(b1))\n",
    "k=2\n",
    "res=[]\n",
    "a1=list(sorted(a1))\n",
    "for i,val in enumerate(a1):\n",
    "    if i<k or i>=len(a1)-k:\n",
    "        res.append(val)\n",
    "res=tuple(res)\n",
    "print(\"The minimum & maximum value :\"+str(res))"
   ]
  },
  {
   "cell_type": "code",
   "execution_count": null,
   "id": "1792d806",
   "metadata": {},
   "outputs": [],
   "source": [
    "#Sum of tuple elements"
   ]
  },
  {
   "cell_type": "code",
   "execution_count": 15,
   "id": "66550be1",
   "metadata": {},
   "outputs": [
    {
     "data": {
      "text/plain": [
       "327"
      ]
     },
     "execution_count": 15,
     "metadata": {},
     "output_type": "execute_result"
    }
   ],
   "source": [
    "a=(16,64,89,34,90,34)\n",
    "sum(a)"
   ]
  },
  {
   "cell_type": "code",
   "execution_count": 16,
   "id": "a4e7539a",
   "metadata": {},
   "outputs": [
    {
     "name": "stdout",
     "output_type": "stream",
     "text": [
      "55\n"
     ]
    }
   ],
   "source": [
    "ab=(1,2,3,4,5,6,7,8,9,10)\n",
    "sum1=0\n",
    "for i in ab:\n",
    "    sum1+=i\n",
    "print(sum1)"
   ]
  },
  {
   "cell_type": "code",
   "execution_count": 17,
   "id": "24c7e9b3",
   "metadata": {},
   "outputs": [
    {
     "name": "stdout",
     "output_type": "stream",
     "text": [
      "Sum of the tuple 36\n"
     ]
    }
   ],
   "source": [
    "abc = (3, 1, 8, 4, 5, 2, 7, 6)\n",
    "sum1 = 0\n",
    "for i in abc:\n",
    "    sum1 += i\n",
    "print(\"Sum of the tuple\",sum1)"
   ]
  },
  {
   "cell_type": "code",
   "execution_count": 25,
   "id": "6f6b6f3d",
   "metadata": {},
   "outputs": [
    {
     "name": "stdout",
     "output_type": "stream",
     "text": [
      "Sum of rows: [6, 15, 24]\n",
      "Sum of columns: [12, 15, 18]\n"
     ]
    }
   ],
   "source": [
    "matrix = (\n",
    "    (1, 2, 3),\n",
    "    (4, 5, 6),\n",
    "    (7, 8, 9)\n",
    ")\n",
    "\n",
    "a=matrix\n",
    "row_sums = []\n",
    "col_sums = [0] * len(a[0])\n",
    "\n",
    "for i in range(len(a)):\n",
    "    row_sum = 0\n",
    "    for j in range(len(a[i])):\n",
    "        row_sum += a[i][j]\n",
    "        col_sums[j] += a[i][j]\n",
    "    row_sums.append(row_sum)\n",
    "print(\"Sum of rows:\", row_sums)\n",
    "print(\"Sum of columns:\", col_sums)"
   ]
  },
  {
   "cell_type": "code",
   "execution_count": 26,
   "id": "a8a65af8",
   "metadata": {},
   "outputs": [
    {
     "name": "stdout",
     "output_type": "stream",
     "text": [
      "Sum of rows: [28, 18, 175]\n",
      "sum of columns: [43, 92, 86]\n"
     ]
    }
   ],
   "source": [
    "a=((7,9,12),\n",
    "   (4,5,9),\n",
    "   (32,78,65))\n",
    "row_sums=[]\n",
    "col_sums=[0]*len(a[0])\n",
    "for i in range(len(a)):\n",
    "    row_sum=0\n",
    "    for j in range(len(a[i])):\n",
    "        row_sum +=a[i][j]\n",
    "        col_sums[j] +=a[i][j]\n",
    "    row_sums.append(row_sum)\n",
    "print(\"Sum of rows:\",row_sums)\n",
    "print(\"sum of columns:\",col_sums)"
   ]
  },
  {
   "cell_type": "code",
   "execution_count": 48,
   "id": "250468a7",
   "metadata": {},
   "outputs": [
    {
     "name": "stdout",
     "output_type": "stream",
     "text": [
      "Sum of rows: [6, 15, 24]\n",
      "Sum of columns: [12, 15, 18]\n"
     ]
    }
   ],
   "source": [
    "a = [[1, 2, 3], [4, 5, 6], [7, 8, 9]]\n",
    "\n",
    "row_sums = []\n",
    "col_sums = [0] * len(a[0])\n",
    "\n",
    "for i in range(len(a)):\n",
    "    row_sum = 0\n",
    "    for j in range(len(a[i])):\n",
    "        row_sum += a[i][j]\n",
    "        col_sums[j] += a[i][j]\n",
    "    row_sums.append(row_sum)\n",
    "\n",
    "print(\"Sum of rows:\", row_sums)\n",
    "print(\"Sum of columns:\", col_sums)"
   ]
  },
  {
   "cell_type": "code",
   "execution_count": 27,
   "id": "6db94d76",
   "metadata": {},
   "outputs": [
    {
     "data": {
      "text/plain": [
       "[(1, 1), (2, 8), (3, 27), (4, 64), (5, 125)]"
      ]
     },
     "execution_count": 27,
     "metadata": {},
     "output_type": "execute_result"
    }
   ],
   "source": [
    "a = [1, 2, 3, 4, 5]\n",
    "cubes = [(i, i**3) for i in a]\n",
    "cubes"
   ]
  },
  {
   "cell_type": "code",
   "execution_count": null,
   "id": "d3474de0",
   "metadata": {},
   "outputs": [],
   "source": []
  }
 ],
 "metadata": {
  "kernelspec": {
   "display_name": "Python 3 (ipykernel)",
   "language": "python",
   "name": "python3"
  },
  "language_info": {
   "codemirror_mode": {
    "name": "ipython",
    "version": 3
   },
   "file_extension": ".py",
   "mimetype": "text/x-python",
   "name": "python",
   "nbconvert_exporter": "python",
   "pygments_lexer": "ipython3",
   "version": "3.11.5"
  }
 },
 "nbformat": 4,
 "nbformat_minor": 5
}
