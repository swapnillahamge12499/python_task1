{
 "cells": [
  {
   "cell_type": "code",
   "execution_count": null,
   "id": "d7610e09",
   "metadata": {},
   "outputs": [],
   "source": [
    "Python LinkedList Exercises\n",
    "Python program to Search an Element in a Circular Linked List\n",
    "Pretty print Linked List in Python\n",
    "Python | Stack using Doubly Linked List\n",
    "Python | Queue using Doubly Linked List\n",
    "Python program to find middle of a linked list using one traversal"
   ]
  },
  {
   "cell_type": "code",
   "execution_count": null,
   "id": "02df6427",
   "metadata": {},
   "outputs": [],
   "source": [
    "#Python program to Search an Element in a Circular Linked List"
   ]
  },
  {
   "cell_type": "code",
   "execution_count": 1,
   "id": "cf0a734e",
   "metadata": {},
   "outputs": [
    {
     "name": "stdout",
     "output_type": "stream",
     "text": [
      "True\n",
      "False\n"
     ]
    }
   ],
   "source": [
    "class Node:\n",
    "    def __init__(self, data):\n",
    "        self.data = data\n",
    "        self.next = None\n",
    "\n",
    "class CircularLinkedList:\n",
    "    def __init__(self):\n",
    "        self.head = None\n",
    "\n",
    "    def append(self, data):\n",
    "        new_node = Node(data)\n",
    "        if not self.head:\n",
    "            self.head = new_node\n",
    "            self.head.next = self.head\n",
    "        else:\n",
    "            temp = self.head\n",
    "            while temp.next != self.head:\n",
    "                temp = temp.next\n",
    "            temp.next = new_node\n",
    "            new_node.next = self.head\n",
    "\n",
    "    def search(self, key):\n",
    "        current = self.head\n",
    "        if self.head:\n",
    "            while True:\n",
    "                if current.data == key:\n",
    "                    return True\n",
    "                current = current.next\n",
    "                if current == self.head:\n",
    "                    break\n",
    "        return False\n",
    "\n",
    "\n",
    "cll = CircularLinkedList()\n",
    "cll.append(1)\n",
    "cll.append(2)\n",
    "cll.append(3)\n",
    "print(cll.search(2))  \n",
    "print(cll.search(4))  \n"
   ]
  },
  {
   "cell_type": "code",
   "execution_count": null,
   "id": "f2dc35ba",
   "metadata": {},
   "outputs": [],
   "source": [
    "#Pretty print Linked List in Python"
   ]
  },
  {
   "cell_type": "code",
   "execution_count": 2,
   "id": "05b2aa69",
   "metadata": {},
   "outputs": [
    {
     "name": "stdout",
     "output_type": "stream",
     "text": [
      "1 -> 2 -> 3 -> None\n"
     ]
    }
   ],
   "source": [
    "class Node:\n",
    "    def __init__(self, data):\n",
    "        self.data = data\n",
    "        self.next = None\n",
    "\n",
    "class LinkedList:\n",
    "    def __init__(self):\n",
    "        self.head = None\n",
    "\n",
    "    def append(self, data):\n",
    "        new_node = Node(data)\n",
    "        if not self.head:\n",
    "            self.head = new_node\n",
    "        else:\n",
    "            temp = self.head\n",
    "            while temp.next:\n",
    "                temp = temp.next\n",
    "            temp.next = new_node\n",
    "\n",
    "    def pretty_print(self):\n",
    "        if not self.head:\n",
    "            print(\"List is empty\")\n",
    "        else:\n",
    "            current = self.head\n",
    "            while current:\n",
    "                print(current.data, end=\" -> \")\n",
    "                current = current.next\n",
    "            print(\"None\")\n",
    "\n",
    "\n",
    "ll = LinkedList()\n",
    "ll.append(1)\n",
    "ll.append(2)\n",
    "ll.append(3)\n",
    "ll.pretty_print()  \n"
   ]
  },
  {
   "cell_type": "code",
   "execution_count": null,
   "id": "fef3b7f4",
   "metadata": {},
   "outputs": [],
   "source": [
    "#Stack using Doubly Linked List"
   ]
  },
  {
   "cell_type": "code",
   "execution_count": 1,
   "id": "9c89155c",
   "metadata": {},
   "outputs": [
    {
     "name": "stdout",
     "output_type": "stream",
     "text": [
      "3\n",
      "2\n"
     ]
    }
   ],
   "source": [
    "class Node:\n",
    "    def __init__(self, data):\n",
    "        self.data = data\n",
    "        self.next = None\n",
    "        self.prev = None\n",
    "\n",
    "class DoublyLinkedList:\n",
    "    def __init__(self):\n",
    "        self.head = None\n",
    "        self.tail = None\n",
    "\n",
    "    def append(self, data):\n",
    "        new_node = Node(data)\n",
    "        if not self.head:\n",
    "            self.head = new_node\n",
    "            self.tail = new_node\n",
    "        else:\n",
    "            self.tail.next = new_node\n",
    "            new_node.prev = self.tail\n",
    "            self.tail = new_node\n",
    "\n",
    "    def pop(self):\n",
    "        if not self.tail:\n",
    "            return None\n",
    "        data = self.tail.data\n",
    "        if self.tail == self.head:\n",
    "            self.head = None\n",
    "            self.tail = None\n",
    "        else:\n",
    "            self.tail = self.tail.prev\n",
    "            self.tail.next = None\n",
    "        return data\n",
    "\n",
    "class Stack:\n",
    "    def __init__(self):\n",
    "        self.dll = DoublyLinkedList()\n",
    "\n",
    "    def push(self, data):\n",
    "        self.dll.append(data)\n",
    "\n",
    "    def pop(self):\n",
    "        return self.dll.pop()\n",
    "\n",
    "# Example usage\n",
    "stack = Stack()\n",
    "stack.push(1)\n",
    "stack.push(2)\n",
    "stack.push(3)\n",
    "print(stack.pop())  \n",
    "print(stack.pop()) "
   ]
  },
  {
   "cell_type": "code",
   "execution_count": null,
   "id": "006bdfb2",
   "metadata": {},
   "outputs": [],
   "source": [
    "# Queue using Doubly Linked List"
   ]
  },
  {
   "cell_type": "code",
   "execution_count": 2,
   "id": "e57223a9",
   "metadata": {},
   "outputs": [
    {
     "name": "stdout",
     "output_type": "stream",
     "text": [
      "1\n",
      "2\n"
     ]
    }
   ],
   "source": [
    "class Node:\n",
    "    def __init__(self, data):\n",
    "        self.data = data\n",
    "        self.next = None\n",
    "        self.prev = None\n",
    "\n",
    "class DoublyLinkedList:\n",
    "    def __init__(self):\n",
    "        self.head = None\n",
    "        self.tail = None\n",
    "\n",
    "    def append(self, data):\n",
    "        new_node = Node(data)\n",
    "        if not self.head:\n",
    "            self.head = new_node\n",
    "            self.tail = new_node\n",
    "        else:\n",
    "            self.tail.next = new_node\n",
    "            new_node.prev = self.tail\n",
    "            self.tail = new_node\n",
    "\n",
    "    def popleft(self):\n",
    "        if not self.head:\n",
    "            return None\n",
    "        data = self.head.data\n",
    "        if self.head == self.tail:\n",
    "            self.head = None\n",
    "            self.tail = None\n",
    "        else:\n",
    "            self.head = self.head.next\n",
    "            self.head.prev = None\n",
    "        return data\n",
    "\n",
    "class Queue:\n",
    "    def __init__(self):\n",
    "        self.dll = DoublyLinkedList()\n",
    "\n",
    "    def enqueue(self, data):\n",
    "        self.dll.append(data)\n",
    "\n",
    "    def dequeue(self):\n",
    "        return self.dll.popleft()\n",
    "\n",
    "queue = Queue()\n",
    "queue.enqueue(1)\n",
    "queue.enqueue(2)\n",
    "queue.enqueue(3)\n",
    "print(queue.dequeue())  \n",
    "print(queue.dequeue())  \n"
   ]
  },
  {
   "cell_type": "code",
   "execution_count": 7,
   "id": "4d7d4df7",
   "metadata": {},
   "outputs": [],
   "source": [
    "#Python program to find middle of a linked list using one traversal"
   ]
  },
  {
   "cell_type": "code",
   "execution_count": 3,
   "id": "20c979e0",
   "metadata": {},
   "outputs": [
    {
     "name": "stdout",
     "output_type": "stream",
     "text": [
      "Middle of the linked list is: 3\n"
     ]
    }
   ],
   "source": [
    "class Node:\n",
    "    def __init__(self, data):\n",
    "        self.data = data\n",
    "        self.next = None\n",
    "\n",
    "class LinkedList:\n",
    "    def __init__(self):\n",
    "        self.head = None\n",
    "\n",
    "    def append(self, data):\n",
    "        new_node = Node(data)\n",
    "        if not self.head:\n",
    "            self.head = new_node\n",
    "        else:\n",
    "            temp = self.head\n",
    "            while temp.next:\n",
    "                temp = temp.next\n",
    "            temp.next = new_node\n",
    "\n",
    "    def find_middle(self):\n",
    "        slow_ptr = self.head\n",
    "        fast_ptr = self.head\n",
    "        while fast_ptr and fast_ptr.next:\n",
    "            slow_ptr = slow_ptr.next\n",
    "            fast_ptr = fast_ptr.next.next\n",
    "        return slow_ptr.data if slow_ptr else None\n",
    "\n",
    "ll = LinkedList()\n",
    "ll.append(1)\n",
    "ll.append(2)\n",
    "ll.append(3)\n",
    "ll.append(4)\n",
    "ll.append(5)\n",
    "print(f\"Middle of the linked list is: {ll.find_middle()}\")  \n"
   ]
  },
  {
   "cell_type": "code",
   "execution_count": null,
   "id": "43b83505",
   "metadata": {},
   "outputs": [],
   "source": []
  },
  {
   "cell_type": "code",
   "execution_count": null,
   "id": "986aed27",
   "metadata": {},
   "outputs": [],
   "source": []
  }
 ],
 "metadata": {
  "kernelspec": {
   "display_name": "Python 3 (ipykernel)",
   "language": "python",
   "name": "python3"
  },
  "language_info": {
   "codemirror_mode": {
    "name": "ipython",
    "version": 3
   },
   "file_extension": ".py",
   "mimetype": "text/x-python",
   "name": "python",
   "nbconvert_exporter": "python",
   "pygments_lexer": "ipython3",
   "version": "3.11.5"
  }
 },
 "nbformat": 4,
 "nbformat_minor": 5
}
