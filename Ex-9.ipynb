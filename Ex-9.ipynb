{
 "cells": [
  {
   "cell_type": "code",
   "execution_count": 2,
   "id": "131e9ddf",
   "metadata": {},
   "outputs": [],
   "source": [
    "# Python DateTime Exercises\n",
    "# Python program to get Current Time\n",
    "# Get Yesterday’s date using Python\n",
    "# Python program to print current year, month and day\n",
    "# Python – Convert day number to date in particular year\n",
    "# Get Current Time in different Timezone using Python"
   ]
  },
  {
   "cell_type": "code",
   "execution_count": null,
   "id": "69ae1066",
   "metadata": {},
   "outputs": [],
   "source": [
    "# exercise"
   ]
  },
  {
   "cell_type": "code",
   "execution_count": null,
   "id": "dcc0349c",
   "metadata": {},
   "outputs": [],
   "source": []
  },
  {
   "cell_type": "code",
   "execution_count": 3,
   "id": "df07f676",
   "metadata": {},
   "outputs": [],
   "source": [
    "#Python program to get Current Time"
   ]
  },
  {
   "cell_type": "code",
   "execution_count": 4,
   "id": "328c9e82",
   "metadata": {},
   "outputs": [
    {
     "name": "stdout",
     "output_type": "stream",
     "text": [
      "Current Time: 11:43:01\n"
     ]
    }
   ],
   "source": [
    "from datetime import datetime\n",
    "\n",
    "def get_current_time():\n",
    "    now = datetime.now()\n",
    "    current_time = now.strftime(\"%H:%M:%S\")\n",
    "    return current_time\n",
    "\n",
    "\n",
    "print(\"Current Time:\", get_current_time())\n"
   ]
  },
  {
   "cell_type": "code",
   "execution_count": 6,
   "id": "feebce81",
   "metadata": {},
   "outputs": [
    {
     "name": "stdout",
     "output_type": "stream",
     "text": [
      "Current Time: 11:45:41\n"
     ]
    }
   ],
   "source": [
    "from datetime import datetime\n",
    "def current_time():\n",
    "    now=datetime.now()\n",
    "    current_time=now.strftime(\"%H:%M:%S\")\n",
    "    return current_time\n",
    "print(\"Current Time:\",get_current_time())"
   ]
  },
  {
   "cell_type": "code",
   "execution_count": 11,
   "id": "4fdaecc2",
   "metadata": {},
   "outputs": [
    {
     "name": "stdout",
     "output_type": "stream",
     "text": [
      "Current Time: 11:51:27\n"
     ]
    }
   ],
   "source": [
    "from datetime import datetime\n",
    "now = datetime.now()\n",
    "formatted_time = now.strftime(\"%H:%M:%S\")\n",
    "print(\"Current Time:\", formatted_time)"
   ]
  },
  {
   "cell_type": "code",
   "execution_count": 13,
   "id": "791f7be6",
   "metadata": {},
   "outputs": [
    {
     "name": "stdout",
     "output_type": "stream",
     "text": [
      "2024-07-29 11:53:55.059589\n",
      "Current Time : 11:53:55\n"
     ]
    }
   ],
   "source": [
    "now=datetime.now()\n",
    "print(now)\n",
    "ft=now.strftime(\"%H:%M:%S\")\n",
    "print(\"Current Time :\",ft )"
   ]
  },
  {
   "cell_type": "code",
   "execution_count": null,
   "id": "a7aa00da",
   "metadata": {},
   "outputs": [],
   "source": [
    "#Get Yesterday’s date using Python"
   ]
  },
  {
   "cell_type": "code",
   "execution_count": 14,
   "id": "14c5b05e",
   "metadata": {},
   "outputs": [
    {
     "name": "stdout",
     "output_type": "stream",
     "text": [
      "Yesterday's Date: 2024-07-28\n"
     ]
    }
   ],
   "source": [
    "from datetime import datetime, timedelta\n",
    "\n",
    "def get_yesterdays_date():\n",
    "    yesterday = datetime.now() - timedelta(1)\n",
    "    return yesterday.strftime(\"%Y-%m-%d\")\n",
    "\n",
    "\n",
    "print(\"Yesterday's Date:\", get_yesterdays_date())\n"
   ]
  },
  {
   "cell_type": "code",
   "execution_count": 16,
   "id": "233cab1b",
   "metadata": {},
   "outputs": [
    {
     "name": "stdout",
     "output_type": "stream",
     "text": [
      "Yesterday's Date 2024-07-26\n"
     ]
    }
   ],
   "source": [
    "from datetime import datetime,timedelta\n",
    "def ys():\n",
    "    yesterday=datetime.now()-timedelta(3)\n",
    "    return yesterday.strftime(\"%Y-%m-%d\")\n",
    "print(\"Yesterday's Date\",ys())"
   ]
  },
  {
   "cell_type": "code",
   "execution_count": null,
   "id": "71c52654",
   "metadata": {},
   "outputs": [],
   "source": [
    "#Python program to print current year, month and day"
   ]
  },
  {
   "cell_type": "code",
   "execution_count": null,
   "id": "704fb3d7",
   "metadata": {},
   "outputs": [],
   "source": []
  },
  {
   "cell_type": "code",
   "execution_count": 18,
   "id": "fbe42e0d",
   "metadata": {},
   "outputs": [
    {
     "name": "stdout",
     "output_type": "stream",
     "text": [
      "Year: 2024, Month: 7, Day: 29\n"
     ]
    }
   ],
   "source": [
    "from datetime import datetime\n",
    "\n",
    "def print_current_year_month_day():\n",
    "    now = datetime.now()\n",
    "    year = now.year\n",
    "    month = now.month\n",
    "    day = now.day\n",
    "    print(f\"Year: {year}, Month: {month}, Day: {day}\")\n",
    "\n",
    "print_current_year_month_day()\n"
   ]
  },
  {
   "cell_type": "code",
   "execution_count": null,
   "id": "df615bc9",
   "metadata": {},
   "outputs": [],
   "source": [
    "#Python – Convert day number to date in particular year"
   ]
  },
  {
   "cell_type": "code",
   "execution_count": 19,
   "id": "ff27f3a9",
   "metadata": {},
   "outputs": [
    {
     "name": "stdout",
     "output_type": "stream",
     "text": [
      "Date for day number 200 in year 2024: 2024-07-18\n"
     ]
    }
   ],
   "source": [
    "from datetime import datetime, timedelta\n",
    "\n",
    "def convert_day_number_to_date(year, day_number):\n",
    "    date = datetime(year, 1, 1) + timedelta(day_number - 1)\n",
    "    return date.strftime(\"%Y-%m-%d\")\n",
    "\n",
    "year = 2024\n",
    "day_number = 200\n",
    "print(f\"Date for day number {day_number} in year {year}: {convert_day_number_to_date(year, day_number)}\")\n"
   ]
  },
  {
   "cell_type": "code",
   "execution_count": null,
   "id": "9b543a15",
   "metadata": {},
   "outputs": [],
   "source": [
    "#Get Current Time in different Timezone using Python"
   ]
  },
  {
   "cell_type": "code",
   "execution_count": 6,
   "id": "1fbcc3e3",
   "metadata": {},
   "outputs": [
    {
     "name": "stdout",
     "output_type": "stream",
     "text": [
      "Current time in UTC: 2024-07-29 12:03:27\n",
      "Current time in America/New_York: 2024-07-29 08:03:27\n",
      "Current time in Europe/London: 2024-07-29 13:03:27\n",
      "Current time in Asia/Kolkata: 2024-07-29 17:33:27\n",
      "Current time in Australia/Brisbane: 2024-07-29 22:03:27\n",
      "Current time in Europe/paris: 2024-07-29 14:03:27\n"
     ]
    }
   ],
   "source": [
    "from datetime import datetime\n",
    "import pytz\n",
    "\n",
    "def get_current_time_in_timezone(timezone):\n",
    "    tz = pytz.timezone(timezone)\n",
    "    now = datetime.now(tz)\n",
    "    return now.strftime(\"%Y-%m-%d %H:%M:%S\")\n",
    "\n",
    "\n",
    "timezones = ['UTC', 'America/New_York', 'Europe/London', 'Asia/Kolkata','Australia/Brisbane','Europe/paris']\n",
    "for tz in timezones:\n",
    "    print(f\"Current time in {tz}: {get_current_time_in_timezone(tz)}\")\n"
   ]
  },
  {
   "cell_type": "code",
   "execution_count": null,
   "id": "ae8c6098",
   "metadata": {},
   "outputs": [],
   "source": []
  },
  {
   "cell_type": "code",
   "execution_count": null,
   "id": "0fa3d5ad",
   "metadata": {},
   "outputs": [],
   "source": []
  },
  {
   "cell_type": "code",
   "execution_count": null,
   "id": "4ed6eb89",
   "metadata": {},
   "outputs": [],
   "source": []
  }
 ],
 "metadata": {
  "kernelspec": {
   "display_name": "Python 3 (ipykernel)",
   "language": "python",
   "name": "python3"
  },
  "language_info": {
   "codemirror_mode": {
    "name": "ipython",
    "version": 3
   },
   "file_extension": ".py",
   "mimetype": "text/x-python",
   "name": "python",
   "nbconvert_exporter": "python",
   "pygments_lexer": "ipython3",
   "version": "3.11.5"
  }
 },
 "nbformat": 4,
 "nbformat_minor": 5
}
