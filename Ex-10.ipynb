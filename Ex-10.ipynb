{
 "cells": [
  {
   "cell_type": "code",
   "execution_count": null,
   "id": "43409cd4",
   "metadata": {},
   "outputs": [],
   "source": [
    "# Lambda with if but without else in Python\n",
    "# Python | Sorting string using order defined by another string\n",
    "# Python | Find fibonacci series upto n using lambda\n",
    "# Python program to count Even and Odd numbers in a List\n",
    "# Python | Find the Number Occurring Odd Number of Times using Lambda expression and reduce function"
   ]
  },
  {
   "cell_type": "code",
   "execution_count": null,
   "id": "4bae9397",
   "metadata": {},
   "outputs": [],
   "source": []
  },
  {
   "cell_type": "code",
   "execution_count": null,
   "id": "b2f6b27c",
   "metadata": {},
   "outputs": [],
   "source": []
  },
  {
   "cell_type": "code",
   "execution_count": null,
   "id": "751cfee3",
   "metadata": {},
   "outputs": [],
   "source": [
    "#Sorting string using order defined by another string"
   ]
  },
  {
   "cell_type": "code",
   "execution_count": 1,
   "id": "8fd34ec1",
   "metadata": {},
   "outputs": [
    {
     "name": "stdout",
     "output_type": "stream",
     "text": [
      "Sorted string: dccbbaa\n"
     ]
    }
   ],
   "source": [
    "def custom_sort_string(order, s):\n",
    "    order_index = {char: index for index, char in enumerate(order)}\n",
    "    sorted_s = sorted(s, key=lambda x: order_index.get(x, len(order)))\n",
    "    \n",
    "    return ''.join(sorted_s)\n",
    "\n",
    "order = \"dcba\"\n",
    "s = \"abcdabc\"\n",
    "print(\"Sorted string:\", custom_sort_string(order, s))\n"
   ]
  },
  {
   "cell_type": "code",
   "execution_count": 2,
   "id": "2a67167c",
   "metadata": {},
   "outputs": [
    {
     "name": "stdout",
     "output_type": "stream",
     "text": [
      "Sorted String: ccbbaad\n"
     ]
    }
   ],
   "source": [
    "def custom_sort_string(order,s):\n",
    "    order_index= {char:index for index, char in enumerate(order)}\n",
    "    sorted_s= sorted(s,key=lambda x:order_index.get(x,len(order)))\n",
    "    return ''.join(sorted_s)\n",
    "order=\"cba\"\n",
    "s=\"abcdabc\"\n",
    "print(\"Sorted String:\",custom_sort_string(order,s))"
   ]
  },
  {
   "cell_type": "code",
   "execution_count": 8,
   "id": "b202b816",
   "metadata": {},
   "outputs": [],
   "source": [
    "#Find fibonacci series upto n using lambda"
   ]
  },
  {
   "cell_type": "code",
   "execution_count": 3,
   "id": "3124fecd",
   "metadata": {},
   "outputs": [
    {
     "name": "stdout",
     "output_type": "stream",
     "text": [
      "Fibonacci series up to 10 : [0, 1, 1, 2, 3, 5, 8, 13, 21, 34]\n"
     ]
    }
   ],
   "source": [
    "from functools import reduce\n",
    "\n",
    "\n",
    "def fibonacci_series(n):\n",
    "    return reduce(lambda x, _: x + [x[-1] + x[-2]], range(n - 2), [0, 1])\n",
    "\n",
    "\n",
    "n = 10\n",
    "print(\"Fibonacci series up to\", n, \":\", fibonacci_series(n))"
   ]
  },
  {
   "cell_type": "code",
   "execution_count": null,
   "id": "e055acb3",
   "metadata": {},
   "outputs": [],
   "source": []
  },
  {
   "cell_type": "code",
   "execution_count": null,
   "id": "831ab50a",
   "metadata": {},
   "outputs": [],
   "source": [
    "#program to count Even and Odd numbers in a List"
   ]
  },
  {
   "cell_type": "code",
   "execution_count": 4,
   "id": "e9f7b435",
   "metadata": {},
   "outputs": [
    {
     "name": "stdout",
     "output_type": "stream",
     "text": [
      "Even count: 4\n",
      "Odd count: 5\n"
     ]
    }
   ],
   "source": [
    "numbers = [1, 2, 3, 4, 5, 6, 7, 8, 9]\n",
    "\n",
    "even_count = sum(1 for x in numbers if x % 2 == 0)\n",
    "odd_count = sum(1 for x in numbers if x % 2 != 0)\n",
    "\n",
    "print(\"Even count:\", even_count)\n",
    "print(\"Odd count:\", odd_count)"
   ]
  },
  {
   "cell_type": "code",
   "execution_count": 5,
   "id": "c3c3ce6f",
   "metadata": {},
   "outputs": [
    {
     "name": "stdout",
     "output_type": "stream",
     "text": [
      "Even count: 4\n",
      "Odd count: 5\n"
     ]
    }
   ],
   "source": [
    "numbers = [1, 2, 3, 4, 5, 6, 7, 8, 9]\n",
    "\n",
    "\n",
    "even_count = len(list(filter(lambda x: x % 2 == 0, numbers)))\n",
    "odd_count = len(list(filter(lambda x: x % 2 != 0, numbers)))\n",
    "\n",
    "print(\"Even count:\", even_count)\n",
    "print(\"Odd count:\", odd_count)"
   ]
  },
  {
   "cell_type": "code",
   "execution_count": null,
   "id": "0fa6db52",
   "metadata": {},
   "outputs": [],
   "source": [
    "#Find the Number Occurring Odd Number of Times using Lambda expression and reduce function"
   ]
  },
  {
   "cell_type": "code",
   "execution_count": 11,
   "id": "fac876c4",
   "metadata": {},
   "outputs": [
    {
     "name": "stdout",
     "output_type": "stream",
     "text": [
      "Number occurring odd number of times: 3\n"
     ]
    }
   ],
   "source": [
    "from functools import reduce\n",
    "\n",
    "\n",
    "def find_odd_occurrence(numbers):\n",
    "    return reduce(lambda x, y: x ^ y, numbers)\n",
    "\n",
    "\n",
    "numbers = [1, 2, 3, 2, 3, 1, 3]\n",
    "print(\"Number occurring odd number of times:\", find_odd_occurrence(numbers))"
   ]
  },
  {
   "cell_type": "code",
   "execution_count": null,
   "id": "f7c0ceec",
   "metadata": {},
   "outputs": [],
   "source": []
  },
  {
   "cell_type": "code",
   "execution_count": null,
   "id": "17c78e2c",
   "metadata": {},
   "outputs": [],
   "source": []
  }
 ],
 "metadata": {
  "kernelspec": {
   "display_name": "Python 3 (ipykernel)",
   "language": "python",
   "name": "python3"
  },
  "language_info": {
   "codemirror_mode": {
    "name": "ipython",
    "version": 3
   },
   "file_extension": ".py",
   "mimetype": "text/x-python",
   "name": "python",
   "nbconvert_exporter": "python",
   "pygments_lexer": "ipython3",
   "version": "3.11.5"
  }
 },
 "nbformat": 4,
 "nbformat_minor": 5
}
