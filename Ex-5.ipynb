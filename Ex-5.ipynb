{
 "cells": [
  {
   "cell_type": "code",
   "execution_count": null,
   "id": "669d8129",
   "metadata": {},
   "outputs": [],
   "source": [
    "# Find the size of a Set in Python\n",
    "# Iterate over a set in Python\n",
    "# Python – Maximum and Minimum in a Set\n",
    "# Python – Remove items from Set\n",
    "# Python – Check if two lists have atleast one element common"
   ]
  },
  {
   "cell_type": "markdown",
   "id": "cb85cedc",
   "metadata": {},
   "source": [
    "### Find the size of a Set in Python"
   ]
  },
  {
   "cell_type": "code",
   "execution_count": 1,
   "id": "2322fb96",
   "metadata": {},
   "outputs": [
    {
     "name": "stdout",
     "output_type": "stream",
     "text": [
      "length of set  6\n"
     ]
    }
   ],
   "source": [
    "set1={3,5,6,7,3,2,9}\n",
    "print(\"length of set \",len(set1))"
   ]
  },
  {
   "cell_type": "code",
   "execution_count": 5,
   "id": "5eecfb1a",
   "metadata": {},
   "outputs": [
    {
     "name": "stdout",
     "output_type": "stream",
     "text": [
      "length of set: 6\n"
     ]
    }
   ],
   "source": [
    "s=0\n",
    "for i in set1:\n",
    "    s +=1\n",
    "print(\"length of set:\",s)"
   ]
  },
  {
   "cell_type": "code",
   "execution_count": null,
   "id": "4a4dcaa4",
   "metadata": {},
   "outputs": [],
   "source": [
    "#Iterate over a set in Python"
   ]
  },
  {
   "cell_type": "code",
   "execution_count": 6,
   "id": "b381f4dd",
   "metadata": {},
   "outputs": [
    {
     "name": "stdout",
     "output_type": "stream",
     "text": [
      "4\n",
      "6\n",
      "7\n",
      "8\n",
      "9\n",
      "10\n"
     ]
    }
   ],
   "source": [
    "set1={4,6,7,8,9,10}\n",
    "for i in set1:\n",
    "    print(i)"
   ]
  },
  {
   "cell_type": "code",
   "execution_count": null,
   "id": "86acc000",
   "metadata": {},
   "outputs": [],
   "source": [
    "#Maximum and Minimum in a Set"
   ]
  },
  {
   "cell_type": "code",
   "execution_count": 7,
   "id": "cc455f35",
   "metadata": {},
   "outputs": [
    {
     "name": "stdout",
     "output_type": "stream",
     "text": [
      "maximum value of set2 177\n",
      "minimum value of set2 2\n"
     ]
    }
   ],
   "source": [
    "set2={6,3,34,76,12,2,45,177}\n",
    "print(\"maximum value of set2\",max(set2))\n",
    "print(\"minimum value of set2\",min(set2))"
   ]
  },
  {
   "cell_type": "code",
   "execution_count": null,
   "id": "590a2dd7",
   "metadata": {},
   "outputs": [],
   "source": [
    "# Remove items from Set"
   ]
  },
  {
   "cell_type": "code",
   "execution_count": 8,
   "id": "4d29e07c",
   "metadata": {},
   "outputs": [
    {
     "data": {
      "text/plain": [
       "{45, 78, 87, 98}"
      ]
     },
     "execution_count": 8,
     "metadata": {},
     "output_type": "execute_result"
    }
   ],
   "source": [
    "set3={45,87,23,78,98}\n",
    "set3.remove(23)\n",
    "set3"
   ]
  },
  {
   "cell_type": "code",
   "execution_count": null,
   "id": "297ef8af",
   "metadata": {},
   "outputs": [],
   "source": [
    "#Check if two lists have atleast one element common"
   ]
  },
  {
   "cell_type": "code",
   "execution_count": 9,
   "id": "776cc43a",
   "metadata": {},
   "outputs": [],
   "source": [
    "lst1=[34,23,45,78,23]\n",
    "lst2=[45,78,98,89,12]\n",
    "set1=set(lst1)\n",
    "set2=set(lst2)"
   ]
  },
  {
   "cell_type": "code",
   "execution_count": 10,
   "id": "8fce3776",
   "metadata": {},
   "outputs": [
    {
     "name": "stdout",
     "output_type": "stream",
     "text": [
      "The lists have at least one common element: {45, 78}\n"
     ]
    }
   ],
   "source": [
    "common_ele = set1.intersection(set2)\n",
    "if common_ele:\n",
    "    print(\"The lists have at least one common element:\", common_ele)\n",
    "else:\n",
    "    print(\"The lists do not have any common elements.\")"
   ]
  },
  {
   "cell_type": "code",
   "execution_count": null,
   "id": "5bb4b346",
   "metadata": {},
   "outputs": [],
   "source": []
  }
 ],
 "metadata": {
  "kernelspec": {
   "display_name": "Python 3 (ipykernel)",
   "language": "python",
   "name": "python3"
  },
  "language_info": {
   "codemirror_mode": {
    "name": "ipython",
    "version": 3
   },
   "file_extension": ".py",
   "mimetype": "text/x-python",
   "name": "python",
   "nbconvert_exporter": "python",
   "pygments_lexer": "ipython3",
   "version": "3.11.5"
  }
 },
 "nbformat": 4,
 "nbformat_minor": 5
}
