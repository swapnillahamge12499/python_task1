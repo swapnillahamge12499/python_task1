{
 "cells": [
  {
   "cell_type": "code",
   "execution_count": null,
   "id": "55171afb",
   "metadata": {},
   "outputs": [],
   "source": [
    "Convert class object to JSON in Python\n",
    "Convert JSON data Into a Custom Python Object\n",
    "Flattening JSON objects in Python\n",
    "Convert CSV to JSON using Python"
   ]
  },
  {
   "cell_type": "markdown",
   "id": "1df1ca57",
   "metadata": {},
   "source": [
    "<!--  Convert class object to JSON in Python -->"
   ]
  },
  {
   "cell_type": "code",
   "execution_count": 1,
   "id": "160acbd8",
   "metadata": {},
   "outputs": [
    {
     "name": "stdout",
     "output_type": "stream",
     "text": [
      "{\"name\": \"pinku\", \"age\": 30, \"city\": \"shirdi\"}\n"
     ]
    }
   ],
   "source": [
    "import json\n",
    "\n",
    "class Person:\n",
    "    def __init__(self, name, age, city):\n",
    "        self.name = name\n",
    "        self.age = age\n",
    "        self.city = city\n",
    "\n",
    "    def to_dict(self):\n",
    "        return {\n",
    "            'name': self.name,\n",
    "            'age': self.age,\n",
    "            'city': self.city\n",
    "        }\n",
    "\n",
    "def class_to_json(obj):\n",
    "    return json.dumps(obj.to_dict())\n",
    "\n",
    "person = Person('pinku', 10, 'shirdi')\n",
    "person_json = class_to_json(person)\n",
    "print(person_json)\n"
   ]
  },
  {
   "cell_type": "code",
   "execution_count": null,
   "id": "6eb08d91",
   "metadata": {},
   "outputs": [],
   "source": [
    "#Convert JSON data Into a Custom Python Object"
   ]
  },
  {
   "cell_type": "code",
   "execution_count": 2,
   "id": "6a96ee50",
   "metadata": {},
   "outputs": [
    {
     "name": "stdout",
     "output_type": "stream",
     "text": [
      "Name: Chiku, Age: 20, City: Delhi\n"
     ]
    }
   ],
   "source": [
    "import json\n",
    "\n",
    "class Person:\n",
    "    def __init__(self, name, age, city):\n",
    "        self.name = name\n",
    "        self.age = age\n",
    "        self.city = city\n",
    "\n",
    "def json_to_class(json_data):\n",
    "    data = json.loads(json_data)\n",
    "    return Person(**data)\n",
    "\n",
    "\n",
    "json_data = '{\"name\": \"Chiku\", \"age\": 20, \"city\": \"Delhi\"}'\n",
    "person = json_to_class(json_data)\n",
    "print(f\"Name: {person.name}, Age: {person.age}, City: {person.city}\")\n"
   ]
  },
  {
   "cell_type": "code",
   "execution_count": 3,
   "id": "66d1fd81",
   "metadata": {},
   "outputs": [],
   "source": [
    "#Flattening JSON objects in Python"
   ]
  },
  {
   "cell_type": "code",
   "execution_count": 1,
   "id": "fd3d4591",
   "metadata": {},
   "outputs": [
    {
     "name": "stdout",
     "output_type": "stream",
     "text": [
      "{\n",
      "  \"baba\": 1,\n",
      "  \"cina_bbnb\": 2,\n",
      "  \"cina_aj_tak\": 3,\n",
      "  \"kal_0\": 4,\n",
      "  \"kal_1\": 5,\n",
      "  \"kal_2\": 6\n",
      "}\n"
     ]
    }
   ],
   "source": [
    "import json\n",
    "\n",
    "def flatten_json(nested_json, delimiter='_'):\n",
    "    out = {}\n",
    "\n",
    "    def flatten(x, name=''):\n",
    "        if type(x) is dict:\n",
    "            for a in x:\n",
    "                flatten(x[a], name + a + delimiter)\n",
    "        elif type(x) is list:\n",
    "            i = 0\n",
    "            for a in x:\n",
    "                flatten(a, name + str(i) + delimiter)\n",
    "                i += 1\n",
    "        else:\n",
    "            out[name[:-1]] = x\n",
    "\n",
    "    flatten(nested_json)\n",
    "    return out\n",
    "\n",
    "nested_json = {\n",
    "    \"baba\": 1,\n",
    "    \"cina\": {\n",
    "        \"bbnb\": 2,\n",
    "        \"aj\": {\n",
    "            \"tak\": 3\n",
    "        }\n",
    "    },\n",
    "    \"kal\": [4, 5, 6]\n",
    "}\n",
    "\n",
    "flattened_json = flatten_json(nested_json)\n",
    "print(json.dumps(flattened_json, indent=2))\n"
   ]
  },
  {
   "cell_type": "code",
   "execution_count": null,
   "id": "6c2a5e20",
   "metadata": {},
   "outputs": [],
   "source": [
    "#Convert CSV to JSON using Python"
   ]
  },
  {
   "cell_type": "code",
   "execution_count": 11,
   "id": "7e021901",
   "metadata": {},
   "outputs": [
    {
     "name": "stdout",
     "output_type": "stream",
     "text": [
      "Column names in CSV: ['Name', 'Age', 'City']\n",
      "Error: Column 'No' not found in CSV.\n"
     ]
    }
   ],
   "source": [
    "import csv\n",
    "import json\n",
    "\n",
    "def tojson(csvFilePath, jsonFilePath):   \n",
    "    data = {}\n",
    "    with open(csvFilePath, encoding='utf-8') as csvf:\n",
    "        csvReader = csv.DictReader(csvf)\n",
    "        fieldnames = csvReader.fieldnames\n",
    "        if fieldnames is None:\n",
    "            print(\"Error: No headers found in CSV.\")\n",
    "            return\n",
    "        \n",
    "        print(f\"Column names in CSV: {fieldnames}\")\n",
    "       \n",
    "        fieldnames = [name.strip() for name in fieldnames]\n",
    "        \n",
    "        if 'No' not in fieldnames:\n",
    "            print(\"Error: Column 'No' not found in CSV.\")\n",
    "            return\n",
    "        \n",
    "        for rows in csvReader:\n",
    "            row = {key.strip(): value for key, value in rows.items()}  # Strip extra spaces from row keys\n",
    "            key = row.get('No')\n",
    "            if key:\n",
    "                data[key] = row\n",
    "    \n",
    "    with open(jsonFilePath, 'w', encoding='utf-8') as jsonf:\n",
    "        jsonf.write(json.dumps(data, indent=4))\n",
    "\n",
    "csvFilePath = r\"C:\\Users\\12499\\Desktop\\a.py\\11-20Ex\\username.csv\"\n",
    "jsonFilePath = r\"C:\\Users\\12499\\Desktop\\a.py\\11-20Ex\\instances_default.json\"\n",
    "tojson(csvFilePath, jsonFilePath)"
   ]
  },
  {
   "cell_type": "code",
   "execution_count": null,
   "id": "f484057b",
   "metadata": {},
   "outputs": [],
   "source": []
  }
 ],
 "metadata": {
  "kernelspec": {
   "display_name": "Python 3 (ipykernel)",
   "language": "python",
   "name": "python3"
  },
  "language_info": {
   "codemirror_mode": {
    "name": "ipython",
    "version": 3
   },
   "file_extension": ".py",
   "mimetype": "text/x-python",
   "name": "python",
   "nbconvert_exporter": "python",
   "pygments_lexer": "ipython3",
   "version": "3.11.5"
  }
 },
 "nbformat": 4,
 "nbformat_minor": 5
}
