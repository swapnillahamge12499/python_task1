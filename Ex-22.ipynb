{
 "cells": [
  {
   "cell_type": "code",
   "execution_count": null,
   "id": "3f0ab91f",
   "metadata": {},
   "outputs": [],
   "source": [
    "# NumPy Exercises\n",
    "# How to create an empty and a full NumPy array?\n",
    "# Create a Numpy array filled with all zeros\n",
    "# Create a Numpy array filled with all ones\n",
    "# Replace NumPy array elements that doesn’t satisfy the given condition\n",
    "# Get the maximum value from given matrix"
   ]
  },
  {
   "cell_type": "code",
   "execution_count": null,
   "id": "8b39a6d3",
   "metadata": {},
   "outputs": [],
   "source": [
    "#How to create an empty and a full NumPy array?"
   ]
  },
  {
   "cell_type": "code",
   "execution_count": 10,
   "id": "ea52acbe",
   "metadata": {},
   "outputs": [
    {
     "name": "stdout",
     "output_type": "stream",
     "text": [
      "Empty array:\n",
      "[[1. 1. 1.]\n",
      " [1. 1. 1.]\n",
      " [1. 1. 1.]]\n"
     ]
    }
   ],
   "source": [
    "import numpy as np\n",
    "\n",
    "empty_array = np.empty((3, 3))\n",
    "print(\"Empty array:\")\n",
    "print(empty_array)"
   ]
  },
  {
   "cell_type": "code",
   "execution_count": 11,
   "id": "e443d7ba",
   "metadata": {},
   "outputs": [
    {
     "name": "stdout",
     "output_type": "stream",
     "text": [
      "Full array with 7s:\n",
      "[[7 7 7]\n",
      " [7 7 7]\n",
      " [7 7 7]]\n"
     ]
    }
   ],
   "source": [
    "full_array = np.full((3, 3), 7)\n",
    "print(\"Full array with 7s:\")\n",
    "print(full_array)"
   ]
  },
  {
   "cell_type": "code",
   "execution_count": null,
   "id": "67305567",
   "metadata": {},
   "outputs": [],
   "source": [
    "#Create a Numpy array filled with all zeros"
   ]
  },
  {
   "cell_type": "code",
   "execution_count": 12,
   "id": "21effe43",
   "metadata": {},
   "outputs": [
    {
     "name": "stdout",
     "output_type": "stream",
     "text": [
      "Array filled with zeros:\n",
      "[[0. 0. 0.]\n",
      " [0. 0. 0.]\n",
      " [0. 0. 0.]]\n"
     ]
    }
   ],
   "source": [
    "zeros_array = np.zeros((3, 3))\n",
    "print(\"Array filled with zeros:\")\n",
    "print(zeros_array)"
   ]
  },
  {
   "cell_type": "code",
   "execution_count": null,
   "id": "c639b226",
   "metadata": {},
   "outputs": [],
   "source": [
    "#Create a Numpy array filled with all ones"
   ]
  },
  {
   "cell_type": "code",
   "execution_count": 13,
   "id": "ddf5f77e",
   "metadata": {},
   "outputs": [
    {
     "name": "stdout",
     "output_type": "stream",
     "text": [
      "Array filled with ones:\n",
      "[[1. 1. 1.]\n",
      " [1. 1. 1.]\n",
      " [1. 1. 1.]]\n"
     ]
    }
   ],
   "source": [
    "ones_array = np.ones((3, 3))\n",
    "print(\"Array filled with ones:\")\n",
    "print(ones_array)"
   ]
  },
  {
   "cell_type": "code",
   "execution_count": null,
   "id": "7db44751",
   "metadata": {},
   "outputs": [],
   "source": [
    "#Replace NumPy array elements that doesn’t satisfy the given condition"
   ]
  },
  {
   "cell_type": "code",
   "execution_count": 14,
   "id": "9fd0a433",
   "metadata": {},
   "outputs": [
    {
     "name": "stdout",
     "output_type": "stream",
     "text": [
      "Array with elements not satisfying the condition replaced by 0:\n",
      "[  0 211 323 423 523]\n"
     ]
    }
   ],
   "source": [
    "array = np.array([156, 211, 323, 423, 523])\n",
    "condition = array > 200\n",
    "array[~condition] = 0\n",
    "print(\"Array with elements not satisfying the condition replaced by 0:\")\n",
    "print(array)"
   ]
  },
  {
   "cell_type": "code",
   "execution_count": null,
   "id": "a681c8fc",
   "metadata": {},
   "outputs": [],
   "source": [
    "#Get the maximum value from given matrix"
   ]
  },
  {
   "cell_type": "code",
   "execution_count": 15,
   "id": "400b1879",
   "metadata": {},
   "outputs": [
    {
     "name": "stdout",
     "output_type": "stream",
     "text": [
      "Maximum value from the matrix:\n",
      "9\n"
     ]
    }
   ],
   "source": [
    "matrix = np.array([[1, 2, 3], [4, 5, 6], [7, 8, 9]])\n",
    "max_value = np.max(matrix)\n",
    "print(\"Maximum value from the matrix:\")\n",
    "print(max_value)"
   ]
  },
  {
   "cell_type": "code",
   "execution_count": null,
   "id": "fd8b481d",
   "metadata": {},
   "outputs": [],
   "source": []
  }
 ],
 "metadata": {
  "kernelspec": {
   "display_name": "Python 3 (ipykernel)",
   "language": "python",
   "name": "python3"
  },
  "language_info": {
   "codemirror_mode": {
    "name": "ipython",
    "version": 3
   },
   "file_extension": ".py",
   "mimetype": "text/x-python",
   "name": "python",
   "nbconvert_exporter": "python",
   "pygments_lexer": "ipython3",
   "version": "3.11.5"
  }
 },
 "nbformat": 4,
 "nbformat_minor": 5
}
