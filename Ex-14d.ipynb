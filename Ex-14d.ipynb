{
 "cells": [
  {
   "cell_type": "code",
   "execution_count": null,
   "id": "7f06f854",
   "metadata": {},
   "outputs": [],
   "source": [
    "#1. Python Program for Linear Search"
   ]
  },
  {
   "cell_type": "code",
   "execution_count": 1,
   "id": "3b51aa15",
   "metadata": {},
   "outputs": [
    {
     "name": "stdout",
     "output_type": "stream",
     "text": [
      "Element 10 is at index 3\n"
     ]
    }
   ],
   "source": [
    "def linear_search(arr, x):\n",
    "    for i in range(len(arr)):\n",
    "        if arr[i] == x:\n",
    "            return i\n",
    "    return -1\n",
    "\n",
    "\n",
    "arr = [2, 3, 4, 10, 40]\n",
    "x = 10\n",
    "result = linear_search(arr, x)\n",
    "print(f\"Element {x} is at index {result}\" if result != -1 else \"Element not found\")"
   ]
  },
  {
   "cell_type": "code",
   "execution_count": null,
   "id": "9c3e313e",
   "metadata": {},
   "outputs": [],
   "source": [
    "#2. Python Program for Binary Search (Recursive)"
   ]
  },
  {
   "cell_type": "code",
   "execution_count": 2,
   "id": "f0103684",
   "metadata": {},
   "outputs": [
    {
     "name": "stdout",
     "output_type": "stream",
     "text": [
      "Element 10 is at index 3\n"
     ]
    }
   ],
   "source": [
    "def binary_search_recursive(arr, low, high, x):\n",
    "    if high >= low:\n",
    "        mid = (high + low) // 2\n",
    "        if arr[mid] == x:\n",
    "            return mid\n",
    "        elif arr[mid] > x:\n",
    "            return binary_search_recursive(arr, low, mid - 1, x)\n",
    "        else:\n",
    "            return binary_search_recursive(arr, mid + 1, high, x)\n",
    "    else:\n",
    "        return -1\n",
    "\n",
    "arr = [2, 3, 4, 10, 40]\n",
    "x = 10\n",
    "result = binary_search_recursive(arr, 0, len(arr) - 1, x)\n",
    "print(f\"Element {x} is at index {result}\" if result != -1 else \"Element not found\")"
   ]
  },
  {
   "cell_type": "code",
   "execution_count": null,
   "id": "98a10477",
   "metadata": {},
   "outputs": [],
   "source": [
    "#3. Python Program for Binary Search (Iterative)"
   ]
  },
  {
   "cell_type": "code",
   "execution_count": 3,
   "id": "d3a68851",
   "metadata": {},
   "outputs": [
    {
     "name": "stdout",
     "output_type": "stream",
     "text": [
      "Element 10 is at index 3\n"
     ]
    }
   ],
   "source": [
    "def binary_search_iterative(arr, x):\n",
    "    low = 0\n",
    "    high = len(arr) - 1\n",
    "    while low <= high:\n",
    "        mid = (high + low) // 2\n",
    "        if arr[mid] == x:\n",
    "            return mid\n",
    "        elif arr[mid] < x:\n",
    "            low = mid + 1\n",
    "        else:\n",
    "            high = mid - 1\n",
    "    return -1\n",
    "\n",
    "\n",
    "arr = [2, 3, 4, 10, 40,100]\n",
    "x = 10\n",
    "result = binary_search_iterative(arr, x)\n",
    "print(f\"Element {x} is at index {result}\" if result != -1 else \"Element not found\")"
   ]
  },
  {
   "cell_type": "code",
   "execution_count": null,
   "id": "7f9789f3",
   "metadata": {},
   "outputs": [],
   "source": [
    "#4. Python Program for Anagram Substring Search (Or Search for all permutations)"
   ]
  },
  {
   "cell_type": "code",
   "execution_count": 4,
   "id": "3b57b6cb",
   "metadata": {},
   "outputs": [
    {
     "name": "stdout",
     "output_type": "stream",
     "text": [
      "Anagram 'ABCD' found at indices: [0, 5, 6]\n"
     ]
    }
   ],
   "source": [
    "from collections import Counter\n",
    "\n",
    "def are_equal(counter1, counter2):\n",
    "    for key in counter1:\n",
    "        if counter1[key] != counter2[key]:\n",
    "            return False\n",
    "    return True\n",
    "\n",
    "def anagram_search(text, pattern):\n",
    "    m = len(pattern)\n",
    "    n = len(text)\n",
    "\n",
    "    pattern_count = Counter(pattern)\n",
    "    window_count = Counter(text[:m])\n",
    "\n",
    "    results = []\n",
    "    for i in range(n - m + 1):\n",
    "        if are_equal(pattern_count, window_count):\n",
    "            results.append(i)\n",
    "        \n",
    "        if i + m < n:\n",
    "            window_count[text[i]] -= 1\n",
    "            if window_count[text[i]] == 0:\n",
    "                del window_count[text[i]]\n",
    "            window_count[text[i + m]] += 1\n",
    "    \n",
    "    return results\n",
    "\n",
    "\n",
    "text = \"BACDGABCDA\"\n",
    "pattern = \"ABCD\"\n",
    "result = anagram_search(text, pattern)\n",
    "print(f\"Anagram '{pattern}' found at indices: {result}\")\n"
   ]
  },
  {
   "cell_type": "code",
   "execution_count": null,
   "id": "8dca0169",
   "metadata": {},
   "outputs": [],
   "source": []
  }
 ],
 "metadata": {
  "kernelspec": {
   "display_name": "Python 3 (ipykernel)",
   "language": "python",
   "name": "python3"
  },
  "language_info": {
   "codemirror_mode": {
    "name": "ipython",
    "version": 3
   },
   "file_extension": ".py",
   "mimetype": "text/x-python",
   "name": "python",
   "nbconvert_exporter": "python",
   "pygments_lexer": "ipython3",
   "version": "3.11.5"
  }
 },
 "nbformat": 4,
 "nbformat_minor": 5
}
