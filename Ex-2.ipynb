{
 "cells": [
  {
   "cell_type": "code",
   "execution_count": null,
   "id": "9f0d2481",
   "metadata": {},
   "outputs": [],
   "source": [
    "# Python String Exercises\n",
    "# Python program to check whether the string is Symmetrical or Palindrome\n",
    "# Reverse words in a given String in Python\n",
    "# Ways to remove i’th character from string in Python\n",
    "# Find length of a string in python (4 ways)\n",
    "# Python program to print even length words in a string"
   ]
  },
  {
   "cell_type": "code",
   "execution_count": null,
   "id": "1f41ec02",
   "metadata": {},
   "outputs": [],
   "source": [
    "#Python String Exercises"
   ]
  },
  {
   "cell_type": "code",
   "execution_count": null,
   "id": "30de8aab",
   "metadata": {},
   "outputs": [],
   "source": [
    "#Python program to check whether the string is Symmetrical or Palindrome"
   ]
  },
  {
   "cell_type": "code",
   "execution_count": 3,
   "id": "706f0005",
   "metadata": {},
   "outputs": [],
   "source": [
    "def poly(string):\n",
    "    if string==string[::-1]:\n",
    "        return print(\"string is polindrome\")\n",
    "    else:\n",
    "        return print(\"string is  not polindrome\")"
   ]
  },
  {
   "cell_type": "code",
   "execution_count": 2,
   "id": "6e7acf33",
   "metadata": {},
   "outputs": [
    {
     "name": "stdout",
     "output_type": "stream",
     "text": [
      "string is  not polindrome\n"
     ]
    }
   ],
   "source": [
    "ploy(\"hello\")"
   ]
  },
  {
   "cell_type": "code",
   "execution_count": 6,
   "id": "4b935588",
   "metadata": {},
   "outputs": [
    {
     "name": "stdout",
     "output_type": "stream",
     "text": [
      "String Polindrom\n"
     ]
    }
   ],
   "source": [
    "def poly(s):\n",
    "    if s==s[::-1]:\n",
    "        return print(\"String Polindrom\")\n",
    "    else:\n",
    "        return print(\"String is not polindrome\")\n",
    "\n",
    "poly(\"ABBA\")"
   ]
  },
  {
   "cell_type": "code",
   "execution_count": null,
   "id": "9fdcec7b",
   "metadata": {},
   "outputs": [],
   "source": [
    "#Reverse words in a given String in Python"
   ]
  },
  {
   "cell_type": "code",
   "execution_count": 7,
   "id": "6f70d54d",
   "metadata": {},
   "outputs": [
    {
     "data": {
      "text/plain": [
       "'DKLKDKLDKLDLKLKDLKJDKJDJLA'"
      ]
     },
     "execution_count": 7,
     "metadata": {},
     "output_type": "execute_result"
    }
   ],
   "source": [
    "string1=\"ALJDJKDJKLDKLKLDLKDLKDKLKD\"\n",
    "string1[::-1]"
   ]
  },
  {
   "cell_type": "code",
   "execution_count": 2,
   "id": "35d6eb77",
   "metadata": {},
   "outputs": [
    {
     "name": "stdout",
     "output_type": "stream",
     "text": [
      "heAAAlo\n"
     ]
    }
   ],
   "source": [
    "#Ways to remove i’th character from string in Python\n",
    "a=\"hello\"\n",
    "b=2\n",
    "def char(a,b):\n",
    "    return a.replace(a[b],\"AAA\",1)\n",
    "\n",
    "new=char(a,b)\n",
    "print(new)    \n",
    "    "
   ]
  },
  {
   "cell_type": "code",
   "execution_count": 8,
   "id": "4c8722d4",
   "metadata": {},
   "outputs": [
    {
     "name": "stdout",
     "output_type": "stream",
     "text": [
      "heAAAlo\n"
     ]
    }
   ],
   "source": [
    "a=\"hello\"\n",
    "b=2\n",
    "def char(a,b):\n",
    "    return a.replace(a[b],\"AAA\",1)\n",
    "\n",
    "new=char(a,b)\n",
    "print(new)"
   ]
  },
  {
   "cell_type": "code",
   "execution_count": null,
   "id": "793a741f",
   "metadata": {},
   "outputs": [],
   "source": [
    "#Find length of a string in python (4 ways)"
   ]
  },
  {
   "cell_type": "code",
   "execution_count": 10,
   "id": "942104bd",
   "metadata": {},
   "outputs": [
    {
     "data": {
      "text/plain": [
       "8"
      ]
     },
     "execution_count": 10,
     "metadata": {},
     "output_type": "execute_result"
    }
   ],
   "source": [
    "str=\"omramsai\"\n",
    "len(str)"
   ]
  },
  {
   "cell_type": "code",
   "execution_count": 9,
   "id": "7b1cdf34",
   "metadata": {},
   "outputs": [
    {
     "data": {
      "text/plain": [
       "6"
      ]
     },
     "execution_count": 9,
     "metadata": {},
     "output_type": "execute_result"
    }
   ],
   "source": [
    "str=\"OM SAI\"\n",
    "len(str)"
   ]
  },
  {
   "cell_type": "code",
   "execution_count": 13,
   "id": "f930aec6",
   "metadata": {},
   "outputs": [
    {
     "data": {
      "text/plain": [
       "9"
      ]
     },
     "execution_count": 13,
     "metadata": {},
     "output_type": "execute_result"
    }
   ],
   "source": [
    "def length(str1):\n",
    "    counter = 0\n",
    "    for i  in str1:\n",
    "        counter += 1\n",
    "       \n",
    "    return counter\n",
    "str1=\"helloismy\"\n",
    "length(str1)"
   ]
  },
  {
   "cell_type": "code",
   "execution_count": 14,
   "id": "a76a907d",
   "metadata": {},
   "outputs": [
    {
     "data": {
      "text/plain": [
       "12"
      ]
     },
     "execution_count": 14,
     "metadata": {},
     "output_type": "execute_result"
    }
   ],
   "source": [
    "def length(str1):\n",
    "    counter=0\n",
    "    for i in str1:\n",
    "        counter +=1\n",
    "    return counter \n",
    "str1=\"hello om sai\"\n",
    "length(str1)"
   ]
  },
  {
   "cell_type": "code",
   "execution_count": 28,
   "id": "8aa94504",
   "metadata": {},
   "outputs": [
    {
     "name": "stdout",
     "output_type": "stream",
     "text": [
      "11\n"
     ]
    }
   ],
   "source": [
    "def Len(str):\n",
    "    counter = 0   \n",
    "    for i in str:\n",
    "        counter += 1\n",
    "    return counter\n",
    " \n",
    " \n",
    "str = \"hello is my\"\n",
    "print(Len(str))"
   ]
  },
  {
   "cell_type": "code",
   "execution_count": 29,
   "id": "7a564100",
   "metadata": {},
   "outputs": [
    {
     "name": "stdout",
     "output_type": "stream",
     "text": [
      "9\n"
     ]
    }
   ],
   "source": [
    "def Len(str):\n",
    "    counter = 0\n",
    "    while str[counter:]:\n",
    "        counter += 1\n",
    "    return counter\n",
    " \n",
    "str = \"Junglemai\"\n",
    "print(Len(str))"
   ]
  },
  {
   "cell_type": "code",
   "execution_count": 30,
   "id": "bb5591bb",
   "metadata": {},
   "outputs": [
    {
     "name": "stdout",
     "output_type": "stream",
     "text": [
      "5\n"
     ]
    }
   ],
   "source": [
    "def findLen(str):\n",
    "    if not str:\n",
    "        return 0\n",
    "    else:\n",
    "        some = \"aa\"\n",
    "        return ((some).join(str)).count(some) + 1\n",
    " \n",
    "str = \"tiger\"\n",
    "print(findLen(str))"
   ]
  },
  {
   "cell_type": "code",
   "execution_count": 33,
   "id": "c476ce3f",
   "metadata": {},
   "outputs": [
    {
     "name": "stdout",
     "output_type": "stream",
     "text": [
      "4\n"
     ]
    }
   ],
   "source": [
    "import functools\n",
    " \n",
    "def Len(string):\n",
    "    return functools.reduce(lambda x,y: x+1, string, 0)\n",
    " \n",
    " \n",
    "\n",
    "string = 'pica'\n",
    "print(Len(string))"
   ]
  },
  {
   "cell_type": "code",
   "execution_count": 34,
   "id": "99e54b49",
   "metadata": {},
   "outputs": [
    {
     "name": "stdout",
     "output_type": "stream",
     "text": [
      "4\n"
     ]
    }
   ],
   "source": [
    "def findLen(str):\n",
    "    return sum( 1 for i in string);\n",
    "\n",
    "str = 'Lion'\n",
    "print(findLen(string))"
   ]
  },
  {
   "cell_type": "code",
   "execution_count": 36,
   "id": "1ed84ba1",
   "metadata": {},
   "outputs": [
    {
     "name": "stdout",
     "output_type": "stream",
     "text": [
      "11\n"
     ]
    }
   ],
   "source": [
    "string = \"LionisTiger\"\n",
    "s = 0\n",
    "for i, a in enumerate(string):\n",
    "    s += 1\n",
    "print(s)"
   ]
  },
  {
   "cell_type": "code",
   "execution_count": null,
   "id": "c96b1f40",
   "metadata": {},
   "outputs": [],
   "source": [
    "#Python program to print even length words in a string"
   ]
  },
  {
   "cell_type": "code",
   "execution_count": 16,
   "id": "c50b5160",
   "metadata": {},
   "outputs": [
    {
     "name": "stdout",
     "output_type": "stream",
     "text": [
      "love\n",
      "howe\n"
     ]
    }
   ],
   "source": [
    "str=\"i love tiger howe\"\n",
    "a=str.split()\n",
    "for i in a:\n",
    "    if len(i)%2==0:\n",
    "        print(i)"
   ]
  },
  {
   "cell_type": "code",
   "execution_count": null,
   "id": "a47ad74a",
   "metadata": {},
   "outputs": [],
   "source": []
  }
 ],
 "metadata": {
  "kernelspec": {
   "display_name": "Python 3 (ipykernel)",
   "language": "python",
   "name": "python3"
  },
  "language_info": {
   "codemirror_mode": {
    "name": "ipython",
    "version": 3
   },
   "file_extension": ".py",
   "mimetype": "text/x-python",
   "name": "python",
   "nbconvert_exporter": "python",
   "pygments_lexer": "ipython3",
   "version": "3.11.5"
  }
 },
 "nbformat": 4,
 "nbformat_minor": 5
}
