{
 "cells": [
  {
   "cell_type": "code",
   "execution_count": null,
   "id": "51d5f693",
   "metadata": {},
   "outputs": [],
   "source": [
    "# Python Dictionary Exercises\n",
    "# Python | Sort Python Dictionaries by Key or Value\n",
    "# Handling missing keys in Python dictionaries\n",
    "# Python dictionary with keys having multiple inputs\n",
    "# Python program to find the sum of all items in a dictionary\n",
    "# Python program to find the size of a Dictionary"
   ]
  },
  {
   "cell_type": "code",
   "execution_count": 14,
   "id": "89545904",
   "metadata": {},
   "outputs": [
    {
     "name": "stdout",
     "output_type": "stream",
     "text": [
      "['shiv', 'Rani', 'Raj', 'Vikas']\n",
      "[23, 35, 39, 78]\n",
      "{'Raj': 39, 'Rani': 35, 'Vikas': 78, 'shiv': 23}\n"
     ]
    }
   ],
   "source": [
    "dict={\"shiv\":23,\"Rani\":35,\"Raj\":39,\"Vikas\":78}\n",
    "keys=list(dict.keys())\n",
    "print(keys)\n",
    "keys.sort()\n",
    "value=list(dict.values())\n",
    "print(value)\n",
    "sorted_a={i:dict[i] for i in keys}\n",
    "print(sorted_a)"
   ]
  },
  {
   "cell_type": "code",
   "execution_count": null,
   "id": "6732fc40",
   "metadata": {},
   "outputs": [],
   "source": [
    "# Handling missing keys in Python dictionaries"
   ]
  },
  {
   "cell_type": "code",
   "execution_count": 1,
   "id": "c366feeb",
   "metadata": {},
   "outputs": [
    {
     "name": "stdout",
     "output_type": "stream",
     "text": [
      "Key not found\n"
     ]
    }
   ],
   "source": [
    "ele = {'ab': 5, 'ck': 8, 'fi': 2}\n",
    "if \"q\" in ele:\n",
    "    print(ele[\"d\"])\n",
    "else:\n",
    "    print(\"Key not found\")"
   ]
  },
  {
   "cell_type": "code",
   "execution_count": null,
   "id": "1f5b3527",
   "metadata": {},
   "outputs": [],
   "source": [
    "# Python dictionary with keys having multiple inputs"
   ]
  },
  {
   "cell_type": "code",
   "execution_count": 23,
   "id": "02ccd4cc",
   "metadata": {},
   "outputs": [
    {
     "data": {
      "text/plain": [
       "{'fruits': {'Pomogranedes', 'apple', 'banana', 'mango', 'orange'},\n",
       " 'vegetables': {'carrot', 'lettuce', 'spinach'}}"
      ]
     },
     "execution_count": 23,
     "metadata": {},
     "output_type": "execute_result"
    }
   ],
   "source": [
    "dict1={\n",
    "    'fruits':{'apple','banana','orange'}\n",
    "    ,'vegetables':{'carrot','lettuce','spinach'}\n",
    "}\n",
    "dict1['fruits'].add('mango')\n",
    "dict1['fruits'].add('Pomogranedes')\n",
    "dict1"
   ]
  },
  {
   "cell_type": "code",
   "execution_count": 50,
   "id": "fffa306a",
   "metadata": {},
   "outputs": [],
   "source": [
    "# Python program to find the sum of all items in a dictionary"
   ]
  },
  {
   "cell_type": "code",
   "execution_count": 1,
   "id": "9d3b370d",
   "metadata": {},
   "outputs": [
    {
     "name": "stdout",
     "output_type": "stream",
     "text": [
      "Sum : 600\n"
     ]
    }
   ],
   "source": [
    "def returnSum(dict):\n",
    " \n",
    "    sum = 0\n",
    "    for i in dict:\n",
    "        sum = sum + dict[i]\n",
    " \n",
    "    return sum\n",
    " \n",
    " \n",
    "dict = {'a': 100, 'b': 200, 'c': 300}\n",
    "print(\"Sum :\", returnSum(dict))"
   ]
  },
  {
   "cell_type": "code",
   "execution_count": 52,
   "id": "e51ef2f7",
   "metadata": {},
   "outputs": [
    {
     "name": "stdout",
     "output_type": "stream",
     "text": [
      "Sum : 2300\n"
     ]
    }
   ],
   "source": [
    "def sumdict(dict):\n",
    "    sum=0\n",
    "    for i in dict:\n",
    "        sum=sum+dict[i]\n",
    "    return sum\n",
    "dict1={\"ba\":600,\"ca\":800,\"da\":900}\n",
    "print(\"Sum :\",sumdict(dict1))"
   ]
  },
  {
   "cell_type": "code",
   "execution_count": null,
   "id": "6d85fde5",
   "metadata": {},
   "outputs": [],
   "source": [
    "# Python program to find the size of a Dictionary"
   ]
  },
  {
   "cell_type": "code",
   "execution_count": 4,
   "id": "9f8d6f68",
   "metadata": {},
   "outputs": [
    {
     "name": "stdout",
     "output_type": "stream",
     "text": [
      "Size of dic3: 224bytes\n"
     ]
    }
   ],
   "source": [
    "import sys\n",
    "dic3 = {1: \"Truck\", 2: \"Car\", 3: \"Bikes\", 4: \"Cycle\"}\n",
    "print(\"Size of dic3: \" + str(sys.getsizeof(dic3)) + \"bytes\")"
   ]
  },
  {
   "cell_type": "code",
   "execution_count": null,
   "id": "c8554ace",
   "metadata": {},
   "outputs": [],
   "source": []
  }
 ],
 "metadata": {
  "kernelspec": {
   "display_name": "Python 3 (ipykernel)",
   "language": "python",
   "name": "python3"
  },
  "language_info": {
   "codemirror_mode": {
    "name": "ipython",
    "version": 3
   },
   "file_extension": ".py",
   "mimetype": "text/x-python",
   "name": "python",
   "nbconvert_exporter": "python",
   "pygments_lexer": "ipython3",
   "version": "3.11.5"
  }
 },
 "nbformat": 4,
 "nbformat_minor": 5
}
